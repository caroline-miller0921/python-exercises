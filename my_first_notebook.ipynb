{
 "cells": [
  {
   "cell_type": "code",
   "execution_count": 2,
   "id": "1f9c7b2d",
   "metadata": {},
   "outputs": [
    {
     "data": {
      "text/plain": [
       "7"
      ]
     },
     "execution_count": 2,
     "metadata": {},
     "output_type": "execute_result"
    }
   ],
   "source": [
    "# esc + h = keyboard shortcuts\n",
    "# command mode - esc to enable\n",
    "# edit mode - actually changing the content of a cell - toggle with return\n",
    "\n",
    "# when downloading a notebook from github, use the \"raw\" link and to see the actual code\n",
    "\n",
    "3 + 4"
   ]
  },
  {
   "cell_type": "code",
   "execution_count": 3,
   "id": "56caa497",
   "metadata": {},
   "outputs": [],
   "source": [
    "# shift + return runs the cells"
   ]
  },
  {
   "cell_type": "code",
   "execution_count": 4,
   "id": "967a89fe",
   "metadata": {},
   "outputs": [],
   "source": [
    "# to change the markdown from python\n",
    "# esc + m to toggle markdown "
   ]
  },
  {
   "cell_type": "markdown",
   "id": "712a3eaa",
   "metadata": {},
   "source": [
    "### This is for Markdown\n",
    "\n",
    "#### Heading\n",
    "\n",
    "- List item 1\n",
    "- List item 2"
   ]
  },
  {
   "cell_type": "code",
   "execution_count": null,
   "id": "5b914c1e",
   "metadata": {},
   "outputs": [],
   "source": [
    "# if you need a new cell, hit esc + B\n"
   ]
  },
  {
   "cell_type": "code",
   "execution_count": 5,
   "id": "b466a036",
   "metadata": {},
   "outputs": [],
   "source": [
    "# if a want a cell to come before, esc + A\n"
   ]
  },
  {
   "cell_type": "code",
   "execution_count": null,
   "id": "f2a31158",
   "metadata": {},
   "outputs": [],
   "source": []
  },
  {
   "cell_type": "code",
   "execution_count": null,
   "id": "0d8a76bf",
   "metadata": {},
   "outputs": [],
   "source": []
  }
 ],
 "metadata": {
  "kernelspec": {
   "display_name": "Python 3 (ipykernel)",
   "language": "python",
   "name": "python3"
  },
  "language_info": {
   "codemirror_mode": {
    "name": "ipython",
    "version": 3
   },
   "file_extension": ".py",
   "mimetype": "text/x-python",
   "name": "python",
   "nbconvert_exporter": "python",
   "pygments_lexer": "ipython3",
   "version": "3.9.13"
  }
 },
 "nbformat": 4,
 "nbformat_minor": 5
}
