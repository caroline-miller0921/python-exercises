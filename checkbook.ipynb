{
 "cells": [
  {
   "cell_type": "code",
   "execution_count": 1,
   "id": "f481cd80",
   "metadata": {},
   "outputs": [],
   "source": [
    "# I'm going to make a csv file for storing the checkbook"
   ]
  },
  {
   "cell_type": "code",
   "execution_count": 2,
   "id": "d6025db4",
   "metadata": {},
   "outputs": [],
   "source": [
    "import csv"
   ]
  },
  {
   "cell_type": "code",
   "execution_count": 3,
   "id": "adb8ead0",
   "metadata": {},
   "outputs": [],
   "source": [
    "import checkbook_funcs"
   ]
  },
  {
   "cell_type": "code",
   "execution_count": 4,
   "id": "3f1b79f2",
   "metadata": {},
   "outputs": [],
   "source": [
    "# defining variables\n",
    "\n",
    "cur_bal = '$1,000.00'"
   ]
  },
  {
   "cell_type": "code",
   "execution_count": 5,
   "id": "ad8713d4",
   "metadata": {},
   "outputs": [
    {
     "name": "stdout",
     "output_type": "stream",
     "text": [
      "~~~ Welcome to your Checkbook! ~~~\n",
      "\n",
      "What would you like to do?\n",
      "\n",
      "Please input the corresponding number for any of the following actions:\n",
      "\n",
      "1) View current balance\n",
      "2) record a debit (withdraw)\n",
      "3) record a credit (deposit)\n",
      "4) exit\n",
      "\n",
      " Your choice: \n",
      "1\n"
     ]
    },
    {
     "ename": "AttributeError",
     "evalue": "module 'checkbook_funcs' has no attribute 'check_curbal'",
     "output_type": "error",
     "traceback": [
      "\u001b[0;31m---------------------------------------------------------------------------\u001b[0m",
      "\u001b[0;31mAttributeError\u001b[0m                            Traceback (most recent call last)",
      "Input \u001b[0;32mIn [5]\u001b[0m, in \u001b[0;36m<cell line: 8>\u001b[0;34m()\u001b[0m\n\u001b[1;32m     13\u001b[0m \u001b[38;5;66;03m# if client wants to check current balance\u001b[39;00m\n\u001b[1;32m     14\u001b[0m \u001b[38;5;28;01mif\u001b[39;00m client_input \u001b[38;5;241m==\u001b[39m \u001b[38;5;241m1\u001b[39m:\n\u001b[0;32m---> 15\u001b[0m     cur_bal \u001b[38;5;241m=\u001b[39m \u001b[43mcf\u001b[49m\u001b[38;5;241;43m.\u001b[39;49m\u001b[43mcheck_curbal\u001b[49m(cur_bal)\n\u001b[1;32m     16\u001b[0m     \u001b[38;5;28mprint\u001b[39m()\n\u001b[1;32m     18\u001b[0m \u001b[38;5;66;03m# if client wants to make a withdraw\u001b[39;00m\n",
      "\u001b[0;31mAttributeError\u001b[0m: module 'checkbook_funcs' has no attribute 'check_curbal'"
     ]
    }
   ],
   "source": [
    "print('~~~ Welcome to your Checkbook! ~~~\\n')\n",
    "import checkbook_funcs as cf\n",
    "\n",
    "cur_bal = cur_bal.strip('$').replace(',', '')\n",
    "cur_bal = float(cur_bal)\n",
    "\n",
    "while True:\n",
    "    client_input = input('What would you like to do?\\n\\nPlease input the corresponding number for any of the following actions:\\n\\n1) View current balance\\n2) record a debit (withdraw)\\n3) record a credit (deposit)\\n4) exit\\n\\n Your choice: \\n')\n",
    "    \n",
    "    if client_input.isdigit() == True:\n",
    "        client_input = int(client_input)\n",
    "        \n",
    "        # if client wants to check current balance\n",
    "        if client_input == 1:\n",
    "            cur_bal = cf.check_curbal(cur_bal)\n",
    "            print()\n",
    "        \n",
    "        # if client wants to make a withdraw\n",
    "        if client_input == 2:\n",
    "            client_debit = input('Withdraw amount: $')\n",
    "            print()\n",
    "            if client_debit.isdigit() == True:\n",
    "                cur_bal = cf.new_bal_after_trans(cur_bal, client_debit)\n",
    "                print(cur_bal)\n",
    "        \n",
    "        # if client wants to make a desposit\n",
    "        if client_input == 3:\n",
    "            client_credit = input('Deposit amount: $')\n",
    "            print()\n",
    "            if client_credit.isdigit() == True:\n",
    "                cur_bal = cf.new_bal_after_depo(cur_bal, client_credit)\n",
    "                print(cur_bal)\n",
    "        \n",
    "        #if client wants to quit the checkbook\n",
    "        if client_input == 4:\n",
    "            print()\n",
    "            cur_bal = cf.end_checkbook(cur_bal)\n",
    "            break\n",
    "            \n",
    "        if int(client_input) > 4:\n",
    "            print('Invalid input. Redirecting you.\\n\\n')\n",
    "        \n",
    "    else:\n",
    "        print('Invalid input. Redirecting you.\\n\\n')\n"
   ]
  },
  {
   "cell_type": "code",
   "execution_count": 6,
   "id": "db6562a2",
   "metadata": {},
   "outputs": [],
   "source": [
    "from datetime import datetime"
   ]
  },
  {
   "cell_type": "code",
   "execution_count": 7,
   "id": "57ee1d2e",
   "metadata": {},
   "outputs": [],
   "source": [
    "cols = ['id', 'location', 'datetime', 'category', 'price', 'balance', 'description']\n",
    "\n",
    "with open('transactions.csv', 'w') as f:\n",
    "    writer = csv.DictWriter(f, fieldnames=cols)\n",
    "    writer.writeheader()\n",
    "    writer.writerow(\n",
    "    {\n",
    "        'id': 1,\n",
    "        'location': 'Target',\n",
    "        'datetime': datetime.now(),\n",
    "        'category': 'Retail',\n",
    "        'price': '$42.50',\n",
    "        'balance': (cur_bal - 42.5),\n",
    "        'description': 'groceries, 4 articles of clothing, toiletries, cleaning, supplies'\n",
    "    })"
   ]
  },
  {
   "cell_type": "code",
   "execution_count": 8,
   "id": "bd1bbe9d",
   "metadata": {},
   "outputs": [],
   "source": [
    "with open('transactions.csv', 'r') as f:\n",
    "    content = csv.DictReader(f, fieldnames=cols)\n",
    "    lines = []\n",
    "    for line in content:\n",
    "        lines.append(line)"
   ]
  },
  {
   "cell_type": "code",
   "execution_count": 9,
   "id": "e95820bd",
   "metadata": {},
   "outputs": [
    {
     "data": {
      "text/plain": [
       "[{'id': '1',\n",
       "  'location': 'Target',\n",
       "  'datetime': '2023-02-14 16:56:50.431127',\n",
       "  'category': 'Retail',\n",
       "  'price': '$42.50',\n",
       "  'balance': '957.5',\n",
       "  'description': 'groceries, 4 articles of clothing, toiletries, cleaning, supplies'}]"
      ]
     },
     "execution_count": 9,
     "metadata": {},
     "output_type": "execute_result"
    }
   ],
   "source": [
    "lines[1:]"
   ]
  },
  {
   "cell_type": "code",
   "execution_count": 10,
   "id": "7c6686a7",
   "metadata": {},
   "outputs": [
    {
     "name": "stdout",
     "output_type": "stream",
     "text": [
      "1\n",
      "Location of transaction: Whole Foods\n",
      "datetime:  2023-02-14 16:57:00.780287\n",
      "Category of transaction: Groceries\n",
      "Price of transaction: $45.76\n",
      "$  954.24\n",
      "Description of transaction: Milk, eggs, fabric softener\n",
      "Would you like to complete this transaction? \n",
      "\n",
      "Y / Ny\n",
      "\n",
      "Transaction recorded. Redirecting you to the main menu.\n"
     ]
    }
   ],
   "source": [
    "from datetime import datetime\n",
    "\n",
    "count = 0\n",
    "count += 1\n",
    "ledger_dict = {}\n",
    "\n",
    "import checkbook_funcs as cf\n",
    "\n",
    "open_interface = True\n",
    "\n",
    "while open_interface:\n",
    "    \n",
    "    id = print(count)\n",
    "    ledger_dict[id] = id\n",
    "    \n",
    "    location = input('Location of transaction: ')\n",
    "    ledger_dict[location] = location\n",
    "    \n",
    "    datetime = print('datetime: ', datetime.now())\n",
    "    ledger_dict[datetime] = datetime\n",
    "    \n",
    "    category = input('Category of transaction: ')\n",
    "    ledger_dict[category] = category\n",
    "    \n",
    "    while True:\n",
    "        price = input('Price of transaction: $')\n",
    "        if cf.isfloat(price) == True:\n",
    "            ledger_dict[price] = price\n",
    "            break\n",
    "        if cf.isint(price) == True:\n",
    "            price == int(price)\n",
    "            ledger_dict[price] = price\n",
    "            break\n",
    "        else:\n",
    "            print('Invalid response')\n",
    "    \n",
    "    balance = print('$ ', (cur_bal - float(price)))\n",
    "    ledger_dict[balance] = balance\n",
    "    \n",
    "    description = input('Description of transaction: ')\n",
    "    ledger_dict[description] = description\n",
    "    \n",
    "    repeat = input('Would you like to complete this transaction? \\n\\nY / N')\n",
    "    if repeat.lower()[0] == 'y':\n",
    "        print()\n",
    "        print('Transaction recorded. Redirecting you to the main menu.')\n",
    "        break\n",
    "    elif repeat.lower()[0] == 'n':\n",
    "        print()\n",
    "        print('Please reenter the transaction information. \\n')\n",
    "    else: \n",
    "        print('Invalid response.')"
   ]
  },
  {
   "cell_type": "code",
   "execution_count": null,
   "id": "46db2eff",
   "metadata": {},
   "outputs": [],
   "source": [
    "with open()"
   ]
  },
  {
   "cell_type": "code",
   "execution_count": 11,
   "id": "e5923650",
   "metadata": {},
   "outputs": [
    {
     "data": {
      "text/plain": [
       "{None: None,\n",
       " 'Whole Foods': 'Whole Foods',\n",
       " 'Groceries': 'Groceries',\n",
       " '45.76': '45.76',\n",
       " 'Milk, eggs, fabric softener': 'Milk, eggs, fabric softener'}"
      ]
     },
     "execution_count": 11,
     "metadata": {},
     "output_type": "execute_result"
    }
   ],
   "source": [
    "ledger_dict"
   ]
  },
  {
   "cell_type": "code",
   "execution_count": null,
   "id": "a5ae9606",
   "metadata": {},
   "outputs": [],
   "source": []
  }
 ],
 "metadata": {
  "kernelspec": {
   "display_name": "Python 3 (ipykernel)",
   "language": "python",
   "name": "python3"
  },
  "language_info": {
   "codemirror_mode": {
    "name": "ipython",
    "version": 3
   },
   "file_extension": ".py",
   "mimetype": "text/x-python",
   "name": "python",
   "nbconvert_exporter": "python",
   "pygments_lexer": "ipython3",
   "version": "3.9.13"
  }
 },
 "nbformat": 4,
 "nbformat_minor": 5
}
