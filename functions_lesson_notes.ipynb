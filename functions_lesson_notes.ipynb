{
 "cells": [
  {
   "cell_type": "code",
   "execution_count": 1,
   "id": "c15277ab",
   "metadata": {},
   "outputs": [
    {
     "data": {
      "text/plain": [
       "5"
      ]
     },
     "execution_count": 1,
     "metadata": {},
     "output_type": "execute_result"
    }
   ],
   "source": [
    "# len function \n",
    "\n",
    "# the function: len\n",
    "\n",
    "# len is the function, the () are the invocation of the function\n",
    "\n",
    "# len()\n",
    "\n",
    "# the object that len asks for is called an argument \n",
    "\n",
    "len('hello')"
   ]
  },
  {
   "cell_type": "code",
   "execution_count": 2,
   "id": "8f51bafe",
   "metadata": {},
   "outputs": [
    {
     "data": {
      "text/plain": [
       "20"
      ]
     },
     "execution_count": 2,
     "metadata": {},
     "output_type": "execute_result"
    }
   ],
   "source": [
    "# what we define inside of a function is the parameter(s)\n",
    "\n",
    "len('the beacons are lit!')"
   ]
  },
  {
   "cell_type": "code",
   "execution_count": 3,
   "id": "fb3088bc",
   "metadata": {},
   "outputs": [
    {
     "data": {
      "text/plain": [
       "4"
      ]
     },
     "execution_count": 3,
     "metadata": {},
     "output_type": "execute_result"
    }
   ],
   "source": [
    "len([1, 2, 6, 78])"
   ]
  },
  {
   "cell_type": "code",
   "execution_count": 5,
   "id": "8e8d6022",
   "metadata": {},
   "outputs": [
    {
     "data": {
      "text/plain": [
       "3"
      ]
     },
     "execution_count": 5,
     "metadata": {},
     "output_type": "execute_result"
    }
   ],
   "source": [
    "len([[45, 67], 'hi', 43])"
   ]
  },
  {
   "cell_type": "code",
   "execution_count": 6,
   "id": "0aaa1b17",
   "metadata": {},
   "outputs": [],
   "source": [
    "# in this case, len is fed anything that it can count and returns count\n",
    "\n",
    "# to get the documentation of a function:\n",
    "\n",
    "len?\n",
    "\n",
    "# shift + tab to see documentation\n",
    "\n",
    "len()\n",
    "\n",
    "# print is unique, it does not need any parameters"
   ]
  },
  {
   "cell_type": "code",
   "execution_count": 7,
   "id": "73dd62d6",
   "metadata": {},
   "outputs": [],
   "source": [
    "str.lower? # in this case, .lower is a method and we can get the \n",
    "# the documentation like this"
   ]
  },
  {
   "cell_type": "code",
   "execution_count": 9,
   "id": "1f4f3926",
   "metadata": {},
   "outputs": [],
   "source": [
    "# lets ellaborate \n",
    "\n",
    "# lets build our own function\n",
    "\n",
    "# structure:\n",
    "\n",
    "# def <name_of_function>(any parameters):\n",
    "\n",
    "def my_function():\n",
    "    '''\n",
    "    This is where a doc-string goes!\n",
    "    Explain what function does!\n",
    "    Do this for all defined functions you make!\n",
    "    '''\n",
    "    print('Hello O\\'Neil!')\n",
    "    "
   ]
  },
  {
   "cell_type": "code",
   "execution_count": 10,
   "id": "b1362807",
   "metadata": {},
   "outputs": [
    {
     "name": "stdout",
     "output_type": "stream",
     "text": [
      "Hello O'Neil!\n"
     ]
    }
   ],
   "source": [
    "# let's invoke the function!\n",
    "# to call function\n",
    "my_function()"
   ]
  },
  {
   "cell_type": "code",
   "execution_count": 11,
   "id": "426545f0",
   "metadata": {},
   "outputs": [],
   "source": [
    "my_function?"
   ]
  },
  {
   "cell_type": "code",
   "execution_count": 12,
   "id": "7a295224",
   "metadata": {},
   "outputs": [],
   "source": [
    "# Lets break it\n",
    "\n",
    "def my_function():\n",
    "    '''\n",
    "    This is where a doc-string goes!\n",
    "    Explain what function does!\n",
    "    Do this for all defined functions you make!\n",
    "    '''\n",
    "    print('Hello O\\'Neil!')\n",
    "    x = my_extra_variable"
   ]
  },
  {
   "cell_type": "code",
   "execution_count": 14,
   "id": "a8eb1246",
   "metadata": {},
   "outputs": [
    {
     "name": "stdout",
     "output_type": "stream",
     "text": [
      "Hello O'Neil!\n"
     ]
    },
    {
     "ename": "NameError",
     "evalue": "name 'my_extra_variable' is not defined",
     "output_type": "error",
     "traceback": [
      "\u001b[0;31m---------------------------------------------------------------------------\u001b[0m",
      "\u001b[0;31mNameError\u001b[0m                                 Traceback (most recent call last)",
      "Input \u001b[0;32mIn [14]\u001b[0m, in \u001b[0;36m<cell line: 1>\u001b[0;34m()\u001b[0m\n\u001b[0;32m----> 1\u001b[0m \u001b[43mmy_function\u001b[49m\u001b[43m(\u001b[49m\u001b[43m)\u001b[49m\n",
      "Input \u001b[0;32mIn [12]\u001b[0m, in \u001b[0;36mmy_function\u001b[0;34m()\u001b[0m\n\u001b[1;32m      4\u001b[0m \u001b[38;5;124;03m'''\u001b[39;00m\n\u001b[1;32m      5\u001b[0m \u001b[38;5;124;03mThis is where a doc-string goes!\u001b[39;00m\n\u001b[1;32m      6\u001b[0m \u001b[38;5;124;03mExplain what function does!\u001b[39;00m\n\u001b[1;32m      7\u001b[0m \u001b[38;5;124;03mDo this for all defined functions you make!\u001b[39;00m\n\u001b[1;32m      8\u001b[0m \u001b[38;5;124;03m'''\u001b[39;00m\n\u001b[1;32m      9\u001b[0m \u001b[38;5;28mprint\u001b[39m(\u001b[38;5;124m'\u001b[39m\u001b[38;5;124mHello O\u001b[39m\u001b[38;5;130;01m\\'\u001b[39;00m\u001b[38;5;124mNeil!\u001b[39m\u001b[38;5;124m'\u001b[39m)\n\u001b[0;32m---> 10\u001b[0m x \u001b[38;5;241m=\u001b[39m \u001b[43mmy_extra_variable\u001b[49m\n",
      "\u001b[0;31mNameError\u001b[0m: name 'my_extra_variable' is not defined"
     ]
    }
   ],
   "source": [
    "my_function()\n",
    "\n",
    "# breaks because it doesnt know what to do with x\n"
   ]
  },
  {
   "cell_type": "code",
   "execution_count": 15,
   "id": "043f281f",
   "metadata": {},
   "outputs": [],
   "source": [
    "def my_function():\n",
    "    '''\n",
    "    This is where a doc-string goes!\n",
    "    Explain what function does!\n",
    "    Do this for all defined functions you make!\n",
    "    '''\n",
    "    print('Hello O\\'Neil!')\n",
    "    x = 7"
   ]
  },
  {
   "cell_type": "code",
   "execution_count": 16,
   "id": "24bdef51",
   "metadata": {},
   "outputs": [
    {
     "name": "stdout",
     "output_type": "stream",
     "text": [
      "Hello O'Neil!\n"
     ]
    }
   ],
   "source": [
    "my_function()"
   ]
  },
  {
   "cell_type": "code",
   "execution_count": 18,
   "id": "09122a32",
   "metadata": {},
   "outputs": [],
   "source": [
    "x = 7"
   ]
  },
  {
   "cell_type": "code",
   "execution_count": 19,
   "id": "d1e53530",
   "metadata": {},
   "outputs": [
    {
     "data": {
      "text/plain": [
       "7"
      ]
     },
     "execution_count": 19,
     "metadata": {},
     "output_type": "execute_result"
    }
   ],
   "source": [
    "x"
   ]
  },
  {
   "cell_type": "code",
   "execution_count": 20,
   "id": "aa028144",
   "metadata": {},
   "outputs": [],
   "source": [
    "def my_obfuscation():\n",
    "    x = 45\n",
    "    print(x)"
   ]
  },
  {
   "cell_type": "code",
   "execution_count": 21,
   "id": "32cca72f",
   "metadata": {},
   "outputs": [
    {
     "name": "stdout",
     "output_type": "stream",
     "text": [
      "45\n"
     ]
    }
   ],
   "source": [
    "my_obfuscation()"
   ]
  },
  {
   "cell_type": "code",
   "execution_count": 22,
   "id": "13b849c1",
   "metadata": {},
   "outputs": [
    {
     "data": {
      "text/plain": [
       "7"
      ]
     },
     "execution_count": 22,
     "metadata": {},
     "output_type": "execute_result"
    }
   ],
   "source": [
    "x"
   ]
  },
  {
   "cell_type": "code",
   "execution_count": 23,
   "id": "d167b4bc",
   "metadata": {},
   "outputs": [],
   "source": [
    "# this happens because the x within my_obfuscation is held strictly\n",
    "# strictly within that function and not outside"
   ]
  },
  {
   "cell_type": "code",
   "execution_count": null,
   "id": "0e0ec1cd",
   "metadata": {},
   "outputs": [],
   "source": [
    "# global versus local scope!\n",
    "\n",
    "# the global variable x = 7\n",
    "# in the function my_obfusation, the x variable ia a local variable"
   ]
  },
  {
   "cell_type": "code",
   "execution_count": 24,
   "id": "7734fef8",
   "metadata": {},
   "outputs": [],
   "source": [
    "def my_altering_function(n):\n",
    "    \"\"\"\n",
    "    take any int value and reassign value to 45\n",
    "    Return: single int 45\n",
    "    \"\"\"\n",
    "    n = 45\n",
    "    return n"
   ]
  },
  {
   "cell_type": "code",
   "execution_count": 25,
   "id": "0f72d0c3",
   "metadata": {},
   "outputs": [
    {
     "data": {
      "text/plain": [
       "45"
      ]
     },
     "execution_count": 25,
     "metadata": {},
     "output_type": "execute_result"
    }
   ],
   "source": [
    "my_altering_function(8)"
   ]
  },
  {
   "cell_type": "code",
   "execution_count": 26,
   "id": "bf359540",
   "metadata": {},
   "outputs": [],
   "source": [
    "x = 7"
   ]
  },
  {
   "cell_type": "code",
   "execution_count": 27,
   "id": "4506e35f",
   "metadata": {},
   "outputs": [
    {
     "data": {
      "text/plain": [
       "7"
      ]
     },
     "execution_count": 27,
     "metadata": {},
     "output_type": "execute_result"
    }
   ],
   "source": [
    "x"
   ]
  },
  {
   "cell_type": "code",
   "execution_count": 28,
   "id": "87240918",
   "metadata": {},
   "outputs": [
    {
     "data": {
      "text/plain": [
       "45"
      ]
     },
     "execution_count": 28,
     "metadata": {},
     "output_type": "execute_result"
    }
   ],
   "source": [
    "my_altering_function(x)"
   ]
  },
  {
   "cell_type": "code",
   "execution_count": 29,
   "id": "24a30086",
   "metadata": {},
   "outputs": [
    {
     "data": {
      "text/plain": [
       "7"
      ]
     },
     "execution_count": 29,
     "metadata": {},
     "output_type": "execute_result"
    }
   ],
   "source": [
    "x"
   ]
  },
  {
   "cell_type": "code",
   "execution_count": 30,
   "id": "47e02912",
   "metadata": {},
   "outputs": [],
   "source": [
    "# reassignment!\n",
    "\n",
    "x = my_altering_function(x)"
   ]
  },
  {
   "cell_type": "code",
   "execution_count": 31,
   "id": "e8b18231",
   "metadata": {},
   "outputs": [
    {
     "data": {
      "text/plain": [
       "45"
      ]
     },
     "execution_count": 31,
     "metadata": {},
     "output_type": "execute_result"
    }
   ],
   "source": [
    "x"
   ]
  },
  {
   "cell_type": "code",
   "execution_count": null,
   "id": "2ec917ba",
   "metadata": {},
   "outputs": [],
   "source": [
    "# now x the variable is equal to 45 on the global scope"
   ]
  },
  {
   "cell_type": "code",
   "execution_count": 32,
   "id": "549cf94b",
   "metadata": {},
   "outputs": [
    {
     "name": "stdout",
     "output_type": "stream",
     "text": [
      "hello\n"
     ]
    }
   ],
   "source": [
    "greeting = print('hello')"
   ]
  },
  {
   "cell_type": "code",
   "execution_count": 33,
   "id": "f126aeec",
   "metadata": {},
   "outputs": [],
   "source": [
    "greeting"
   ]
  },
  {
   "cell_type": "code",
   "execution_count": 34,
   "id": "31fb7df4",
   "metadata": {},
   "outputs": [
    {
     "data": {
      "text/plain": [
       "NoneType"
      ]
     },
     "execution_count": 34,
     "metadata": {},
     "output_type": "execute_result"
    }
   ],
   "source": [
    "type(greeting)"
   ]
  },
  {
   "cell_type": "code",
   "execution_count": 35,
   "id": "595d78da",
   "metadata": {},
   "outputs": [],
   "source": [
    "# return statements:\n",
    "\n",
    "# operates functionally kind of like a break statement\n",
    "\n",
    "def my_hidden_stuff(some_string):\n",
    "    \"\"\"\n",
    "    Hide and seek\n",
    "    \"\"\"\n",
    "    print('Hello')\n",
    "    x = 5\n",
    "    return x\n",
    "    print('All done!')"
   ]
  },
  {
   "cell_type": "code",
   "execution_count": 36,
   "id": "8f032706",
   "metadata": {},
   "outputs": [
    {
     "name": "stdout",
     "output_type": "stream",
     "text": [
      "Hello\n"
     ]
    }
   ],
   "source": [
    "my_var = my_hidden_stuff('please do the thing')"
   ]
  },
  {
   "cell_type": "code",
   "execution_count": 37,
   "id": "2b01aa54",
   "metadata": {},
   "outputs": [
    {
     "data": {
      "text/plain": [
       "5"
      ]
     },
     "execution_count": 37,
     "metadata": {},
     "output_type": "execute_result"
    }
   ],
   "source": [
    "my_var"
   ]
  },
  {
   "cell_type": "code",
   "execution_count": 44,
   "id": "53ba6cf7",
   "metadata": {},
   "outputs": [],
   "source": [
    "def my_hidden_stuff_2(some_string, x):\n",
    "    \"\"\"\n",
    "    Hide and seek\n",
    "    \"\"\"\n",
    "    print('Hello')\n",
    "    x = 5\n",
    "    if len(some_string) > 6:\n",
    "        return x\n",
    "    else:\n",
    "        return 9\n",
    "    return x\n",
    "    print('All done!')\n",
    "    return 25"
   ]
  },
  {
   "cell_type": "code",
   "execution_count": 39,
   "id": "413112aa",
   "metadata": {},
   "outputs": [
    {
     "data": {
      "text/plain": [
       "10"
      ]
     },
     "execution_count": 39,
     "metadata": {},
     "output_type": "execute_result"
    }
   ],
   "source": [
    "len('hello!!!!!')"
   ]
  },
  {
   "cell_type": "code",
   "execution_count": 43,
   "id": "ddb0da69",
   "metadata": {},
   "outputs": [
    {
     "name": "stdout",
     "output_type": "stream",
     "text": [
      "Hello\n"
     ]
    },
    {
     "data": {
      "text/plain": [
       "5"
      ]
     },
     "execution_count": 43,
     "metadata": {},
     "output_type": "execute_result"
    }
   ],
   "source": [
    "my_hidden_stuff_2('hello!!!!!')"
   ]
  },
  {
   "cell_type": "code",
   "execution_count": 45,
   "id": "7085d03f",
   "metadata": {},
   "outputs": [
    {
     "name": "stdout",
     "output_type": "stream",
     "text": [
      "Hello\n"
     ]
    },
    {
     "data": {
      "text/plain": [
       "9"
      ]
     },
     "execution_count": 45,
     "metadata": {},
     "output_type": "execute_result"
    }
   ],
   "source": [
    "my_hidden_stuff_2('hello', 'class')"
   ]
  },
  {
   "cell_type": "code",
   "execution_count": 46,
   "id": "a57fdae5",
   "metadata": {},
   "outputs": [],
   "source": [
    "# the above are positional arguments \n",
    "# we must feed in some string, followed by x\n",
    "#it will always presume that the first thing you fed in as an \n",
    "# arguments is some_string and will break if two arguments are not fed\n",
    "\n",
    "# positional arguments(parameters in def)\n",
    "# required and ordinal!"
   ]
  },
  {
   "cell_type": "code",
   "execution_count": 57,
   "id": "d0cc2657",
   "metadata": {},
   "outputs": [],
   "source": [
    "def my_hidden_stuff_3(some_string, extra_kwarg=' '):\n",
    "    \"\"\"\n",
    "    Hide and seek\n",
    "    \"\"\"\n",
    "    print('Hello')\n",
    "    x = 5\n",
    "    if len(some_string) > 6:\n",
    "        return x\n",
    "    else:\n",
    "        return 9\n",
    "    return x\n",
    "    print('All done!')\n",
    "    return 25"
   ]
  },
  {
   "cell_type": "code",
   "execution_count": 49,
   "id": "53775470",
   "metadata": {},
   "outputs": [
    {
     "name": "stdout",
     "output_type": "stream",
     "text": [
      "Hello\n"
     ]
    },
    {
     "data": {
      "text/plain": [
       "9"
      ]
     },
     "execution_count": 49,
     "metadata": {},
     "output_type": "execute_result"
    }
   ],
   "source": [
    "my_hidden_stuff_3('hello')"
   ]
  },
  {
   "cell_type": "code",
   "execution_count": 50,
   "id": "3456e696",
   "metadata": {},
   "outputs": [
    {
     "name": "stdout",
     "output_type": "stream",
     "text": [
      "Hello\n"
     ]
    },
    {
     "data": {
      "text/plain": [
       "9"
      ]
     },
     "execution_count": 50,
     "metadata": {},
     "output_type": "execute_result"
    }
   ],
   "source": [
    "my_hidden_stuff_3('hello', 'wassup')"
   ]
  },
  {
   "cell_type": "code",
   "execution_count": null,
   "id": "5ce65d93",
   "metadata": {},
   "outputs": [],
   "source": [
    "# it runs with one argument because 'extra_kwarg=' '' has a \n",
    "# a value of ' ' already defined in the function"
   ]
  },
  {
   "cell_type": "code",
   "execution_count": 51,
   "id": "1223fac1",
   "metadata": {},
   "outputs": [
    {
     "ename": "SyntaxError",
     "evalue": "positional argument follows keyword argument (4072841784.py, line 1)",
     "output_type": "error",
     "traceback": [
      "\u001b[0;36m  Input \u001b[0;32mIn [51]\u001b[0;36m\u001b[0m\n\u001b[0;31m    my_hidden_stuff_3(extra_kwarg='class', 'hello')\u001b[0m\n\u001b[0m                                                  ^\u001b[0m\n\u001b[0;31mSyntaxError\u001b[0m\u001b[0;31m:\u001b[0m positional argument follows keyword argument\n"
     ]
    }
   ],
   "source": [
    "my_hidden_stuff_3(extra_kwarg='class', 'hello')\n",
    "\n",
    "# breaks because key word and positional arguments are out of order"
   ]
  },
  {
   "cell_type": "code",
   "execution_count": null,
   "id": "c1ba1823",
   "metadata": {},
   "outputs": [],
   "source": [
    "my_hidden_stuff_3(extra_kwarg='class', 'hello')"
   ]
  },
  {
   "cell_type": "code",
   "execution_count": null,
   "id": "010c7b6a",
   "metadata": {},
   "outputs": [],
   "source": [
    "# UNPACKING"
   ]
  },
  {
   "cell_type": "code",
   "execution_count": 52,
   "id": "c7445c6a",
   "metadata": {},
   "outputs": [],
   "source": [
    "my_list_of_args = ['hello', '9', 24]"
   ]
  },
  {
   "cell_type": "code",
   "execution_count": 53,
   "id": "c554ee00",
   "metadata": {},
   "outputs": [
    {
     "data": {
      "text/plain": [
       "['hello', '9', 24]"
      ]
     },
     "execution_count": 53,
     "metadata": {},
     "output_type": "execute_result"
    }
   ],
   "source": [
    "my_list_of_args"
   ]
  },
  {
   "cell_type": "code",
   "execution_count": 54,
   "id": "2d09eebe",
   "metadata": {},
   "outputs": [
    {
     "name": "stdout",
     "output_type": "stream",
     "text": [
      "Hello\n"
     ]
    },
    {
     "data": {
      "text/plain": [
       "9"
      ]
     },
     "execution_count": 54,
     "metadata": {},
     "output_type": "execute_result"
    }
   ],
   "source": [
    "my_hidden_stuff_3(my_list_of_args)\n",
    "\n",
    "# this worked because \n",
    "\n",
    "# (*my_list_of_args) = tells to unpack"
   ]
  },
  {
   "cell_type": "code",
   "execution_count": 59,
   "id": "edd41525",
   "metadata": {},
   "outputs": [],
   "source": [
    "def my_exta_fun(x = 5, y = 10):\n",
    "    x += 5\n",
    "    y += 5\n",
    "    return x, y"
   ]
  },
  {
   "cell_type": "code",
   "execution_count": 61,
   "id": "82c04da2",
   "metadata": {},
   "outputs": [
    {
     "data": {
      "text/plain": [
       "(10, 15)"
      ]
     },
     "execution_count": 61,
     "metadata": {},
     "output_type": "execute_result"
    }
   ],
   "source": [
    "my_exta_fun()"
   ]
  },
  {
   "cell_type": "code",
   "execution_count": 63,
   "id": "aa6994eb",
   "metadata": {},
   "outputs": [],
   "source": [
    "my_global_x, my_global_y = my_exta_fun()"
   ]
  },
  {
   "cell_type": "code",
   "execution_count": 64,
   "id": "a743be80",
   "metadata": {},
   "outputs": [
    {
     "data": {
      "text/plain": [
       "10"
      ]
     },
     "execution_count": 64,
     "metadata": {},
     "output_type": "execute_result"
    }
   ],
   "source": [
    "my_global_x"
   ]
  },
  {
   "cell_type": "code",
   "execution_count": 66,
   "id": "456d95d9",
   "metadata": {},
   "outputs": [
    {
     "data": {
      "text/plain": [
       "(50, 15)"
      ]
     },
     "execution_count": 66,
     "metadata": {},
     "output_type": "execute_result"
    }
   ],
   "source": [
    "my_exta_fun(x)"
   ]
  },
  {
   "cell_type": "code",
   "execution_count": 67,
   "id": "91742a32",
   "metadata": {},
   "outputs": [
    {
     "data": {
      "text/plain": [
       "(15, 20)"
      ]
     },
     "execution_count": 67,
     "metadata": {},
     "output_type": "execute_result"
    }
   ],
   "source": [
    "my_exta_fun(my_global_x, my_global_y)"
   ]
  },
  {
   "cell_type": "code",
   "execution_count": 69,
   "id": "1517ee2d",
   "metadata": {},
   "outputs": [],
   "source": [
    "my_dict_kwargs = {\n",
    "    'x': 15,\n",
    "    'y': 20\n",
    "}"
   ]
  },
  {
   "cell_type": "code",
   "execution_count": 70,
   "id": "fda3c789",
   "metadata": {},
   "outputs": [
    {
     "data": {
      "text/plain": [
       "(20, 25)"
      ]
     },
     "execution_count": 70,
     "metadata": {},
     "output_type": "execute_result"
    }
   ],
   "source": [
    "my_exta_fun(**my_dict_kwargs)\n",
    "\n",
    "# double star unpacking will recognize the keys\n",
    "# a single star unpack wont work with dictionaries"
   ]
  },
  {
   "cell_type": "code",
   "execution_count": 71,
   "id": "0583fb14",
   "metadata": {},
   "outputs": [
    {
     "data": {
      "text/plain": [
       "dict_values([15, 20])"
      ]
     },
     "execution_count": 71,
     "metadata": {},
     "output_type": "execute_result"
    }
   ],
   "source": [
    "my_dict_kwargs.values()"
   ]
  },
  {
   "cell_type": "code",
   "execution_count": 72,
   "id": "afc5ef72",
   "metadata": {},
   "outputs": [
    {
     "data": {
      "text/plain": [
       "dict_keys(['x', 'y'])"
      ]
     },
     "execution_count": 72,
     "metadata": {},
     "output_type": "execute_result"
    }
   ],
   "source": [
    "my_dict_kwargs.keys()"
   ]
  },
  {
   "cell_type": "code",
   "execution_count": null,
   "id": "76846e86",
   "metadata": {},
   "outputs": [],
   "source": [
    "# extra extra note\n",
    "# lambdas:"
   ]
  },
  {
   "cell_type": "code",
   "execution_count": null,
   "id": "ee969e81",
   "metadata": {},
   "outputs": [],
   "source": [
    "#lambda functions are a quick way to write a one-liner:"
   ]
  },
  {
   "cell_type": "code",
   "execution_count": 74,
   "id": "e1238cf3",
   "metadata": {},
   "outputs": [
    {
     "data": {
      "text/plain": [
       "<function __main__.<lambda>(x)>"
      ]
     },
     "execution_count": 74,
     "metadata": {},
     "output_type": "execute_result"
    }
   ],
   "source": [
    "lambda x: x + 5"
   ]
  },
  {
   "cell_type": "code",
   "execution_count": 75,
   "id": "f036f613",
   "metadata": {},
   "outputs": [],
   "source": [
    "my_first_lambda = lambda x: x + 5"
   ]
  },
  {
   "cell_type": "code",
   "execution_count": 76,
   "id": "7374b63c",
   "metadata": {},
   "outputs": [
    {
     "data": {
      "text/plain": [
       "<function __main__.<lambda>(x)>"
      ]
     },
     "execution_count": 76,
     "metadata": {},
     "output_type": "execute_result"
    }
   ],
   "source": [
    "my_first_lambda"
   ]
  },
  {
   "cell_type": "code",
   "execution_count": 77,
   "id": "4ff4f434",
   "metadata": {},
   "outputs": [
    {
     "data": {
      "text/plain": [
       "10"
      ]
     },
     "execution_count": 77,
     "metadata": {},
     "output_type": "execute_result"
    }
   ],
   "source": [
    "my_first_lambda(5)"
   ]
  },
  {
   "cell_type": "code",
   "execution_count": null,
   "id": "07b0afd6",
   "metadata": {},
   "outputs": [],
   "source": [
    "# structure:\n",
    "# lambda <variable_name>: <whatever I want the function to do>\n",
    "# lambda funcs should typically only have one variable"
   ]
  },
  {
   "cell_type": "code",
   "execution_count": 79,
   "id": "2cd91cc0",
   "metadata": {},
   "outputs": [],
   "source": [
    "my_ham = lambda ham_sandwich: ham_sandwich + 1"
   ]
  },
  {
   "cell_type": "code",
   "execution_count": 80,
   "id": "3f97588a",
   "metadata": {},
   "outputs": [
    {
     "data": {
      "text/plain": [
       "6"
      ]
     },
     "execution_count": 80,
     "metadata": {},
     "output_type": "execute_result"
    }
   ],
   "source": [
    "my_ham(5)"
   ]
  },
  {
   "cell_type": "code",
   "execution_count": null,
   "id": "0834e7af",
   "metadata": {},
   "outputs": [],
   "source": []
  }
 ],
 "metadata": {
  "kernelspec": {
   "display_name": "Python 3 (ipykernel)",
   "language": "python",
   "name": "python3"
  },
  "language_info": {
   "codemirror_mode": {
    "name": "ipython",
    "version": 3
   },
   "file_extension": ".py",
   "mimetype": "text/x-python",
   "name": "python",
   "nbconvert_exporter": "python",
   "pygments_lexer": "ipython3",
   "version": "3.9.13"
  }
 },
 "nbformat": 4,
 "nbformat_minor": 5
}
