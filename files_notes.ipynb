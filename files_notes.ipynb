{
 "cells": [
  {
   "cell_type": "code",
   "execution_count": null,
   "id": "adec8f48",
   "metadata": {},
   "outputs": [],
   "source": [
    "# FILES\n",
    "\n",
    "# file reading\n",
    "\n",
    "# what it means to interact with a file through a notebook"
   ]
  },
  {
   "cell_type": "code",
   "execution_count": 5,
   "id": "7c528051",
   "metadata": {},
   "outputs": [],
   "source": [
    "# Reading files with python\n",
    "\n",
    "# with python:\n",
    "# open('file name', 'what I want to do with the file')\n",
    "f = open('helloworld.py', 'r')"
   ]
  },
  {
   "cell_type": "code",
   "execution_count": 7,
   "id": "25af6640",
   "metadata": {},
   "outputs": [
    {
     "data": {
      "text/plain": [
       "'print(\"Hello, world! \\\\nHello again, world!\")'"
      ]
     },
     "execution_count": 7,
     "metadata": {},
     "output_type": "execute_result"
    }
   ],
   "source": [
    "f.read() # nice, we can read the content"
   ]
  },
  {
   "cell_type": "code",
   "execution_count": 8,
   "id": "2f52b92e",
   "metadata": {},
   "outputs": [
    {
     "data": {
      "text/plain": [
       "str"
      ]
     },
     "execution_count": 8,
     "metadata": {},
     "output_type": "execute_result"
    }
   ],
   "source": [
    "type(f.read())"
   ]
  },
  {
   "cell_type": "code",
   "execution_count": 9,
   "id": "cf4c3c30",
   "metadata": {},
   "outputs": [],
   "source": [
    "content = f.read()"
   ]
  },
  {
   "cell_type": "code",
   "execution_count": 12,
   "id": "3d42022e",
   "metadata": {},
   "outputs": [
    {
     "name": "stdout",
     "output_type": "stream",
     "text": [
      "['']\n"
     ]
    }
   ],
   "source": [
    "content.split('\\n')"
   ]
  },
  {
   "cell_type": "code",
   "execution_count": 13,
   "id": "74019817",
   "metadata": {},
   "outputs": [],
   "source": [
    "# if we open a file, generally, you want to close it\n",
    "f.close()"
   ]
  },
  {
   "cell_type": "code",
   "execution_count": 14,
   "id": "cde3f538",
   "metadata": {},
   "outputs": [],
   "source": [
    "with open('helloworld.py', 'r') as f:\n",
    "    my_content = f.read()"
   ]
  },
  {
   "cell_type": "code",
   "execution_count": 15,
   "id": "f68c9a4b",
   "metadata": {},
   "outputs": [
    {
     "data": {
      "text/plain": [
       "'print(\"Hello, world! \\\\nHello again, world!\")'"
      ]
     },
     "execution_count": 15,
     "metadata": {},
     "output_type": "execute_result"
    }
   ],
   "source": [
    "my_content"
   ]
  },
  {
   "cell_type": "code",
   "execution_count": 20,
   "id": "0a46cb3f",
   "metadata": {},
   "outputs": [],
   "source": [
    "with open('new_helloworld.py', 'w') as f:\n",
    "    f.write('Hello New World!')"
   ]
  },
  {
   "cell_type": "code",
   "execution_count": 22,
   "id": "4bd4715d",
   "metadata": {},
   "outputs": [],
   "source": [
    "# appending the content in new world\n",
    "\n",
    "with open('new_helloworld.py', 'a') as f:\n",
    "    f.writelines(['yay\\n',\n",
    "                 'yay on a nother line!\\n'])"
   ]
  },
  {
   "cell_type": "code",
   "execution_count": 23,
   "id": "11e85cbd",
   "metadata": {},
   "outputs": [],
   "source": [
    "# welcome to the OS\n",
    "import os"
   ]
  },
  {
   "cell_type": "code",
   "execution_count": 25,
   "id": "ca7b97e0",
   "metadata": {},
   "outputs": [
    {
     "name": "stdout",
     "output_type": "stream",
     "text": [
      "cool, it exists\n"
     ]
    }
   ],
   "source": [
    "if os.path.exists('helloworld.py'):\n",
    "    print('cool, it exists')\n",
    "    with open('helloworld.py', 'r') as f:\n",
    "        lines = f.readlines()\n",
    "else: \n",
    "    print('does not exist\\n')\n",
    "    with open('helloworld.py', 'w') as f:\n",
    "        f.write('brand new file!')"
   ]
  },
  {
   "cell_type": "code",
   "execution_count": 27,
   "id": "bfe5e7c4",
   "metadata": {},
   "outputs": [
    {
     "data": {
      "text/plain": [
       "['print(\"Hello, world! \\\\nHello again, world!\")']"
      ]
     },
     "execution_count": 27,
     "metadata": {},
     "output_type": "execute_result"
    }
   ],
   "source": [
    "lines"
   ]
  },
  {
   "cell_type": "code",
   "execution_count": 32,
   "id": "0af47180",
   "metadata": {},
   "outputs": [
    {
     "name": "stdout",
     "output_type": "stream",
     "text": [
      "cool, it exists\n"
     ]
    }
   ],
   "source": [
    "if os.path.exists('hey.py'):\n",
    "    print('cool, it exists')\n",
    "    with open('hey.py', 'r') as f:\n",
    "        lines = f.readlines()\n",
    "else: \n",
    "    print('does not exist\\n')\n",
    "    with open('hey.py', 'w') as f:\n",
    "        f.write('brand new file!')"
   ]
  },
  {
   "cell_type": "code",
   "execution_count": 35,
   "id": "ad2a64fa",
   "metadata": {},
   "outputs": [],
   "source": [
    "# lets make a CSV:\n",
    "\n",
    "with open('baby_csv.csv', 'w') as f:\n",
    "    f.writelines(\n",
    "    ['field_1, field_2, field_3\\n'\n",
    "    '1, 25, ham\\n'\n",
    "    '1, 29, sandwich\\n'])"
   ]
  },
  {
   "cell_type": "code",
   "execution_count": 37,
   "id": "486f3ef4",
   "metadata": {},
   "outputs": [],
   "source": [
    "with open('baby_csv.csv', 'r') as f:\n",
    "    my_baby_csv = f.readlines()"
   ]
  },
  {
   "cell_type": "code",
   "execution_count": 38,
   "id": "3a1847b9",
   "metadata": {},
   "outputs": [
    {
     "data": {
      "text/plain": [
       "['field_1, field_2, field_3\\n', '1, 25, ham\\n', '1, 29, sandwich\\n']"
      ]
     },
     "execution_count": 38,
     "metadata": {},
     "output_type": "execute_result"
    }
   ],
   "source": [
    "my_baby_csv"
   ]
  },
  {
   "cell_type": "code",
   "execution_count": 39,
   "id": "4c63d90e",
   "metadata": {},
   "outputs": [],
   "source": [
    "# it printed as a big list not a dictionary\n",
    "# how can we make it a dict pythonically?\n",
    "\n",
    "import csv"
   ]
  },
  {
   "cell_type": "code",
   "execution_count": 42,
   "id": "09902c0f",
   "metadata": {},
   "outputs": [],
   "source": [
    "# DictWriter, DictReader\n",
    "\n",
    "# lets make a reciept from a grocery store\n",
    "# item, category, price\n",
    "cols = ['item', 'category', 'price']\n",
    "transaction = {\n",
    "    'item': 'milk',\n",
    "    'category': 'dairy',\n",
    "    'price': 100.00\n",
    "}\n",
    "    "
   ]
  },
  {
   "cell_type": "code",
   "execution_count": 43,
   "id": "4c2a6482",
   "metadata": {},
   "outputs": [
    {
     "data": {
      "text/plain": [
       "{'item': 'milk', 'category': 'dairy', 'price': 100.0}"
      ]
     },
     "execution_count": 43,
     "metadata": {},
     "output_type": "execute_result"
    }
   ],
   "source": [
    "transaction # dope"
   ]
  },
  {
   "cell_type": "code",
   "execution_count": null,
   "id": "d77640c7",
   "metadata": {},
   "outputs": [],
   "source": [
    "# csv.DictWriter needs two things:\n",
    "# the file its writing\n",
    "# field names"
   ]
  },
  {
   "cell_type": "code",
   "execution_count": 48,
   "id": "c877afd4",
   "metadata": {},
   "outputs": [],
   "source": [
    "with open('groceries.csv', 'w') as f:\n",
    "    writer = csv.DictWriter(f, fieldnames = cols)\n",
    "    writer.writeheader()\n",
    "    writer.writerow(transaction)\n",
    "    # row = single dict, rows = mult dicts"
   ]
  },
  {
   "cell_type": "code",
   "execution_count": 49,
   "id": "a3b424cf",
   "metadata": {},
   "outputs": [],
   "source": [
    "# adding new line\n",
    "\n",
    "with open('groceries.csv', 'a') as f:\n",
    "    writer = csv.DictWriter(f, fieldnames = cols)\n",
    "    writer.writerow(\n",
    "    {\n",
    "        'item': 'eggs',\n",
    "        'category': 'dairy',\n",
    "        'price': 500.00\n",
    "    })"
   ]
  },
  {
   "cell_type": "code",
   "execution_count": 51,
   "id": "634e65cb",
   "metadata": {},
   "outputs": [],
   "source": [
    "# read in a csv:\n",
    "\n",
    "with open('groceries.csv', 'r') as f:\n",
    "    content = csv.DictReader(f, fieldnames=cols)\n",
    "    lines = []\n",
    "    for line in content:\n",
    "        lines.append(line)"
   ]
  },
  {
   "cell_type": "code",
   "execution_count": 54,
   "id": "c0e9cbdf",
   "metadata": {},
   "outputs": [
    {
     "data": {
      "text/plain": [
       "[{'item': 'item', 'category': 'category', 'price': 'price'},\n",
       " {'item': 'milk', 'category': 'dairy', 'price': '100.0'},\n",
       " {'item': 'eggs', 'category': 'dairy', 'price': '500.0'}]"
      ]
     },
     "execution_count": 54,
     "metadata": {},
     "output_type": "execute_result"
    }
   ],
   "source": [
    "# added the field names to the output as the field names\n",
    "lines"
   ]
  },
  {
   "cell_type": "code",
   "execution_count": 55,
   "id": "f9516ba9",
   "metadata": {},
   "outputs": [
    {
     "data": {
      "text/plain": [
       "[{'item': 'milk', 'category': 'dairy', 'price': '100.0'},\n",
       " {'item': 'eggs', 'category': 'dairy', 'price': '500.0'}]"
      ]
     },
     "execution_count": 55,
     "metadata": {},
     "output_type": "execute_result"
    }
   ],
   "source": [
    "lines[1:]"
   ]
  },
  {
   "cell_type": "code",
   "execution_count": 56,
   "id": "377050c7",
   "metadata": {},
   "outputs": [],
   "source": [
    "with open('groceries.csv', 'r') as f:\n",
    "    content = csv.DictReader(f, fieldnames=cols)\n",
    "    lines = [line for line in content][1:]"
   ]
  },
  {
   "cell_type": "code",
   "execution_count": 57,
   "id": "51c63472",
   "metadata": {},
   "outputs": [
    {
     "data": {
      "text/plain": [
       "[{'item': 'milk', 'category': 'dairy', 'price': '100.0'},\n",
       " {'item': 'eggs', 'category': 'dairy', 'price': '500.0'}]"
      ]
     },
     "execution_count": 57,
     "metadata": {},
     "output_type": "execute_result"
    }
   ],
   "source": [
    "lines"
   ]
  },
  {
   "cell_type": "code",
   "execution_count": null,
   "id": "98ca4b7d",
   "metadata": {},
   "outputs": [],
   "source": [
    "# to kill a program\n",
    "\n",
    "# call exit function: exit()"
   ]
  },
  {
   "cell_type": "code",
   "execution_count": 58,
   "id": "9228d413",
   "metadata": {},
   "outputs": [],
   "source": [
    "import time"
   ]
  },
  {
   "cell_type": "code",
   "execution_count": 60,
   "id": "c82f89d6",
   "metadata": {},
   "outputs": [
    {
     "data": {
      "text/plain": [
       "1676308894.074197"
      ]
     },
     "execution_count": 60,
     "metadata": {},
     "output_type": "execute_result"
    }
   ],
   "source": [
    "time.time()"
   ]
  },
  {
   "cell_type": "code",
   "execution_count": null,
   "id": "d2a90b50",
   "metadata": {},
   "outputs": [],
   "source": []
  },
  {
   "cell_type": "code",
   "execution_count": null,
   "id": "fa385a79",
   "metadata": {},
   "outputs": [],
   "source": []
  },
  {
   "cell_type": "code",
   "execution_count": null,
   "id": "ee10a289",
   "metadata": {},
   "outputs": [],
   "source": []
  },
  {
   "cell_type": "code",
   "execution_count": null,
   "id": "67cb05e7",
   "metadata": {},
   "outputs": [],
   "source": []
  },
  {
   "cell_type": "code",
   "execution_count": null,
   "id": "f435fe81",
   "metadata": {},
   "outputs": [],
   "source": []
  },
  {
   "cell_type": "code",
   "execution_count": null,
   "id": "a55d99f5",
   "metadata": {},
   "outputs": [],
   "source": []
  },
  {
   "cell_type": "code",
   "execution_count": null,
   "id": "8958defa",
   "metadata": {},
   "outputs": [],
   "source": []
  }
 ],
 "metadata": {
  "kernelspec": {
   "display_name": "Python 3 (ipykernel)",
   "language": "python",
   "name": "python3"
  },
  "language_info": {
   "codemirror_mode": {
    "name": "ipython",
    "version": 3
   },
   "file_extension": ".py",
   "mimetype": "text/x-python",
   "name": "python",
   "nbconvert_exporter": "python",
   "pygments_lexer": "ipython3",
   "version": "3.9.13"
  }
 },
 "nbformat": 4,
 "nbformat_minor": 5
}
