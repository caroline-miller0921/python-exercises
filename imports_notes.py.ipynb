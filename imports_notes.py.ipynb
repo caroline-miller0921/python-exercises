{
 "cells": [
  {
   "cell_type": "code",
   "execution_count": null,
   "id": "01a4e17c",
   "metadata": {},
   "outputs": [],
   "source": [
    "# IMPORTS"
   ]
  },
  {
   "cell_type": "code",
   "execution_count": null,
   "id": "212cc788",
   "metadata": {},
   "outputs": [],
   "source": [
    "# modeule = .py \n",
    "# they contain functions and variables "
   ]
  },
  {
   "cell_type": "code",
   "execution_count": null,
   "id": "25c95c4e",
   "metadata": {},
   "outputs": [],
   "source": [
    "# package = a directory with modeules in it"
   ]
  },
  {
   "cell_type": "code",
   "execution_count": null,
   "id": "0729b073",
   "metadata": {},
   "outputs": [],
   "source": [
    "# library = a collection of related modules and packages"
   ]
  },
  {
   "cell_type": "code",
   "execution_count": null,
   "id": "7b4a2db3",
   "metadata": {},
   "outputs": [],
   "source": [
    "# python package index aka PyPi = a repositiory "
   ]
  },
  {
   "cell_type": "code",
   "execution_count": null,
   "id": "0b3f745b",
   "metadata": {},
   "outputs": [],
   "source": [
    "# format =\n",
    "# import modeule_name"
   ]
  },
  {
   "cell_type": "code",
   "execution_count": null,
   "id": "0adf8543",
   "metadata": {},
   "outputs": [],
   "source": [
    "# python standard library\n",
    "# -> mathematical functions\n",
    "# https://docs.python.org/3/library/numeric.html"
   ]
  },
  {
   "cell_type": "code",
   "execution_count": null,
   "id": "ed848702",
   "metadata": {},
   "outputs": [],
   "source": [
    "import math"
   ]
  },
  {
   "cell_type": "code",
   "execution_count": null,
   "id": "e6fcaf7b",
   "metadata": {},
   "outputs": [],
   "source": [
    "math?"
   ]
  },
  {
   "cell_type": "code",
   "execution_count": null,
   "id": "5f109a77",
   "metadata": {},
   "outputs": [],
   "source": [
    "# get the pi variable\n",
    "\n",
    "math.pi"
   ]
  },
  {
   "cell_type": "code",
   "execution_count": null,
   "id": "9b45fbcb",
   "metadata": {},
   "outputs": [],
   "source": [
    "type(math.pi)"
   ]
  },
  {
   "cell_type": "code",
   "execution_count": null,
   "id": "239839e0",
   "metadata": {},
   "outputs": [],
   "source": [
    "print(math.pi)"
   ]
  },
  {
   "cell_type": "code",
   "execution_count": null,
   "id": "87765a1c",
   "metadata": {},
   "outputs": [],
   "source": [
    "# can we import with an alias?\n",
    "\n",
    "import math as m"
   ]
  },
  {
   "cell_type": "code",
   "execution_count": null,
   "id": "96cc172b",
   "metadata": {},
   "outputs": [],
   "source": [
    "m.pi\n",
    "\n",
    "# cool!"
   ]
  },
  {
   "cell_type": "code",
   "execution_count": null,
   "id": "ec44b6de",
   "metadata": {},
   "outputs": [],
   "source": [
    "# to import the function without writing the module name:\n",
    "\n",
    "from math import pi"
   ]
  },
  {
   "cell_type": "code",
   "execution_count": null,
   "id": "7cc073ba",
   "metadata": {},
   "outputs": [],
   "source": [
    "pi"
   ]
  },
  {
   "cell_type": "code",
   "execution_count": null,
   "id": "86422b78",
   "metadata": {},
   "outputs": [],
   "source": [
    "# now you can call pi without the modeule name"
   ]
  },
  {
   "cell_type": "code",
   "execution_count": null,
   "id": "76aad27d",
   "metadata": {},
   "outputs": [],
   "source": [
    "sqrt(16)"
   ]
  },
  {
   "cell_type": "code",
   "execution_count": null,
   "id": "cf554f40",
   "metadata": {},
   "outputs": [],
   "source": [
    "math.sqrt(16)"
   ]
  },
  {
   "cell_type": "code",
   "execution_count": null,
   "id": "59686241",
   "metadata": {},
   "outputs": [],
   "source": [
    "import math"
   ]
  },
  {
   "cell_type": "code",
   "execution_count": null,
   "id": "2202f28b",
   "metadata": {},
   "outputs": [],
   "source": [
    "# import function with an alias\n",
    "\n",
    "from math import sqrt as st"
   ]
  },
  {
   "cell_type": "code",
   "execution_count": null,
   "id": "ba93bf24",
   "metadata": {},
   "outputs": [],
   "source": [
    "st(16)"
   ]
  },
  {
   "cell_type": "code",
   "execution_count": null,
   "id": "9701fcdc",
   "metadata": {},
   "outputs": [],
   "source": [
    "# 3RD PARTY LIBRARY\n",
    "\n",
    "# potentially need to be installed"
   ]
  },
  {
   "cell_type": "code",
   "execution_count": null,
   "id": "0021d325",
   "metadata": {},
   "outputs": [],
   "source": [
    "# install using the command line if needed"
   ]
  },
  {
   "cell_type": "code",
   "execution_count": null,
   "id": "6ce34852",
   "metadata": {},
   "outputs": [],
   "source": [
    "import numpy as np\n",
    "# always alias as np in the DS world"
   ]
  },
  {
   "cell_type": "code",
   "execution_count": null,
   "id": "11014c49",
   "metadata": {},
   "outputs": [],
   "source": [
    "# numpy built for vector operations"
   ]
  },
  {
   "cell_type": "code",
   "execution_count": null,
   "id": "94bea7ac",
   "metadata": {},
   "outputs": [],
   "source": [
    "np.arange(10)"
   ]
  },
  {
   "cell_type": "code",
   "execution_count": null,
   "id": "4646985a",
   "metadata": {},
   "outputs": [],
   "source": [
    "import pandas as pd"
   ]
  },
  {
   "cell_type": "code",
   "execution_count": null,
   "id": "4be6070c",
   "metadata": {},
   "outputs": [],
   "source": [
    "# pandas is built on top of numpy"
   ]
  },
  {
   "cell_type": "code",
   "execution_count": null,
   "id": "622dd17c",
   "metadata": {},
   "outputs": [],
   "source": [
    "pd.DataFrame?"
   ]
  },
  {
   "cell_type": "code",
   "execution_count": null,
   "id": "66ae52b4",
   "metadata": {},
   "outputs": [],
   "source": [
    "pd.DataFrame({'coll': [1,2]})"
   ]
  },
  {
   "cell_type": "code",
   "execution_count": null,
   "id": "75effa9c",
   "metadata": {},
   "outputs": [],
   "source": [
    "# IMPORT YOUR OWN CODE\n",
    "# how?\n",
    "\n",
    "import sample_module as sm"
   ]
  },
  {
   "cell_type": "code",
   "execution_count": null,
   "id": "05c4d4de",
   "metadata": {},
   "outputs": [],
   "source": [
    "sm.add_two(10)"
   ]
  },
  {
   "cell_type": "code",
   "execution_count": null,
   "id": "7e68c7c0",
   "metadata": {},
   "outputs": [],
   "source": [
    "# nice!"
   ]
  }
 ],
 "metadata": {
  "kernelspec": {
   "display_name": "Python 3 (ipykernel)",
   "language": "python",
   "name": "python3"
  },
  "language_info": {
   "codemirror_mode": {
    "name": "ipython",
    "version": 3
   },
   "file_extension": ".py",
   "mimetype": "text/x-python",
   "name": "python",
   "nbconvert_exporter": "python",
   "pygments_lexer": "ipython3",
   "version": "3.9.13"
  }
 },
 "nbformat": 4,
 "nbformat_minor": 5
}
