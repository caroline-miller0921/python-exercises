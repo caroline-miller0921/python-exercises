{
 "cells": [
  {
   "cell_type": "markdown",
   "id": "a066865c",
   "metadata": {},
   "source": [
    "### 1. Conditional Basics\n",
    "\n",
    "#### a. prompt the user for a day of the week, print out whether the day is Monday or not"
   ]
  },
  {
   "cell_type": "code",
   "execution_count": 1,
   "id": "5828b2b5",
   "metadata": {},
   "outputs": [
    {
     "name": "stdout",
     "output_type": "stream",
     "text": [
      "Please enter a day of the week: Monday\n",
      "The day you entered is Monday\n"
     ]
    }
   ],
   "source": [
    "days_of_week = ['Monday', 'Tuesday', 'Wednesday', 'Thursday', 'Friday', 'Saturday', 'Sunday']\n",
    "day_of_the_week = input('Please enter a day of the week: ')\n",
    "if day_of_the_week == 'Monday':\n",
    "    print('The day you entered is Monday')\n",
    "elif day_of_the_week in days_of_week and day_of_the_week != 'Monday':\n",
    "    print('You have entered a day of the week which is not Monday')\n",
    "elif day_of_the_week not in days_of_week:\n",
    "    print('This is not a day of the week!')"
   ]
  },
  {
   "cell_type": "markdown",
   "id": "472b69e9",
   "metadata": {},
   "source": [
    "#### b. prompt the user for a day of the week, print out whether the day is a weekday or a weekend"
   ]
  },
  {
   "cell_type": "code",
   "execution_count": 2,
   "id": "61163415",
   "metadata": {},
   "outputs": [
    {
     "name": "stdout",
     "output_type": "stream",
     "text": [
      "Please enter a day of the week: Tuesday\n",
      "It is a weekday!\n"
     ]
    }
   ],
   "source": [
    "days_of_week = ['Monday', 'Tuesday', 'Wednesday', 'Thursday', 'Friday', 'Saturday', 'Sunday']\n",
    "day_of_the_week = input('Please enter a day of the week: ')\n",
    "if day_of_the_week in ['Saturday', 'Sunday']:\n",
    "    print(\"Whoohoo! It's the weekend!\")\n",
    "elif day_of_the_week in days_of_week and day_of_the_week not in ['Saturday', 'Sunday']:\n",
    "    print('It is a weekday!')\n",
    "elif day_of_the_week not in days_of_week:\n",
    "    print('This is not a day of the week!')"
   ]
  },
  {
   "cell_type": "markdown",
   "id": "ee51470e",
   "metadata": {},
   "source": [
    "#### c. create variables and make up values for\n",
    "\n",
    "- the number of hours worked in one week\n",
    "- the hourly rate\n",
    "- how much the week's paycheck will be\n",
    "\n",
    "write the python code that calculates the weekly paycheck. You get paid time and a half if you work more than 40 hours"
   ]
  },
  {
   "cell_type": "code",
   "execution_count": 3,
   "id": "897f7663",
   "metadata": {},
   "outputs": [
    {
     "name": "stdout",
     "output_type": "stream",
     "text": [
      "$ 1550.0\n"
     ]
    }
   ],
   "source": [
    "one_week_hours_worked = 55\n",
    "hourly_rate = float(20)\n",
    "overtime_rate = hourly_rate * 1.5\n",
    "weekly_paycheck = (((one_week_hours_worked - 40) * overtime_rate) + (one_week_hours_worked * hourly_rate))\n",
    "print('$', weekly_paycheck)"
   ]
  },
  {
   "cell_type": "markdown",
   "id": "f2080c66",
   "metadata": {},
   "source": [
    "### 2. Loop Basics"
   ]
  },
  {
   "cell_type": "markdown",
   "id": "0e238cfa",
   "metadata": {},
   "source": [
    "#### a. While\n",
    "\n",
    "- Create an integer variable i with a value of 5.\n",
    "- Create a while loop that runs so long as i is less than or equal to 15\n",
    "- Each loop iteration, output the current value of i, then increment i by one."
   ]
  },
  {
   "cell_type": "code",
   "execution_count": 4,
   "id": "dd74e2d0",
   "metadata": {},
   "outputs": [
    {
     "name": "stdout",
     "output_type": "stream",
     "text": [
      "5\n",
      "6\n",
      "7\n",
      "8\n",
      "9\n",
      "10\n",
      "11\n",
      "12\n",
      "13\n",
      "14\n",
      "15\n"
     ]
    }
   ],
   "source": [
    "i = 5\n",
    "while i <= 15:\n",
    "    print(i)\n",
    "    i += 1"
   ]
  },
  {
   "cell_type": "markdown",
   "id": "67a29218",
   "metadata": {},
   "source": [
    "#### i. Create a while loop that will count by 2's starting with 0 and ending at 100. Follow each number with a new line."
   ]
  },
  {
   "cell_type": "code",
   "execution_count": 5,
   "id": "c5144e88",
   "metadata": {},
   "outputs": [
    {
     "name": "stdout",
     "output_type": "stream",
     "text": [
      "0\n",
      "2\n",
      "4\n",
      "6\n",
      "8\n",
      "10\n",
      "12\n",
      "14\n",
      "16\n",
      "18\n",
      "20\n",
      "22\n",
      "24\n",
      "26\n",
      "28\n",
      "30\n",
      "32\n",
      "34\n",
      "36\n",
      "38\n",
      "40\n",
      "42\n",
      "44\n",
      "46\n",
      "48\n",
      "50\n",
      "52\n",
      "54\n",
      "56\n",
      "58\n",
      "60\n",
      "62\n",
      "64\n",
      "66\n",
      "68\n",
      "70\n",
      "72\n",
      "74\n",
      "76\n",
      "78\n",
      "80\n",
      "82\n",
      "84\n",
      "86\n",
      "88\n",
      "90\n",
      "92\n",
      "94\n",
      "96\n",
      "98\n",
      "100\n"
     ]
    }
   ],
   "source": [
    " n = 0\n",
    "while n <= 100:\n",
    "    print(n)\n",
    "    n += 2"
   ]
  },
  {
   "cell_type": "markdown",
   "id": "167b6a80",
   "metadata": {},
   "source": [
    "#### ii.  Alter your loop to count backwards by 5's from 100 to -10."
   ]
  },
  {
   "cell_type": "code",
   "execution_count": 6,
   "id": "bc120c58",
   "metadata": {},
   "outputs": [
    {
     "name": "stdout",
     "output_type": "stream",
     "text": [
      "100\n",
      "95\n",
      "90\n",
      "85\n",
      "80\n",
      "75\n",
      "70\n",
      "65\n",
      "60\n",
      "55\n",
      "50\n",
      "45\n",
      "40\n",
      "35\n",
      "30\n",
      "25\n",
      "20\n",
      "15\n",
      "10\n",
      "5\n",
      "0\n",
      "-5\n",
      "-10\n"
     ]
    }
   ],
   "source": [
    "n = 100 \n",
    "while n >= -10:\n",
    "    print(n)\n",
    "    n -= 5\n",
    "    "
   ]
  },
  {
   "cell_type": "markdown",
   "id": "aa71b6c0",
   "metadata": {},
   "source": [
    "#### iii. Create a while loop that starts at 2, and displays the number squared on each line while the number is less than 1,000,000. "
   ]
  },
  {
   "cell_type": "code",
   "execution_count": 7,
   "id": "1c350663",
   "metadata": {},
   "outputs": [
    {
     "name": "stdout",
     "output_type": "stream",
     "text": [
      "2\n",
      "4\n",
      "16\n",
      "256\n",
      "65536\n"
     ]
    }
   ],
   "source": [
    "n = 2\n",
    "while n < 1_000_000:\n",
    "    print(n)\n",
    "    n = n ** 2\n",
    "    \n",
    "\n",
    "    "
   ]
  },
  {
   "cell_type": "markdown",
   "id": "ee15079e",
   "metadata": {},
   "source": [
    "#### iv. Write a loop that uses print to create the output shown below."
   ]
  },
  {
   "cell_type": "code",
   "execution_count": 8,
   "id": "76562480",
   "metadata": {},
   "outputs": [
    {
     "name": "stdout",
     "output_type": "stream",
     "text": [
      "100\n",
      "95\n",
      "90\n",
      "85\n",
      "80\n",
      "75\n",
      "70\n",
      "65\n",
      "60\n",
      "55\n",
      "50\n",
      "45\n",
      "40\n",
      "35\n",
      "30\n",
      "25\n",
      "20\n",
      "15\n",
      "10\n",
      "5\n"
     ]
    }
   ],
   "source": [
    "n = 100\n",
    "while n >= 5:\n",
    "    print(n)\n",
    "    n -= 5"
   ]
  },
  {
   "cell_type": "markdown",
   "id": "60213afc",
   "metadata": {},
   "source": [
    "### b. For Loops"
   ]
  },
  {
   "cell_type": "markdown",
   "id": "a6dcba29",
   "metadata": {},
   "source": [
    "#### i. Write some code that prompts the user for a number, then shows a multiplication table up through 10 for that number."
   ]
  },
  {
   "cell_type": "code",
   "execution_count": 9,
   "id": "ef438fac",
   "metadata": {},
   "outputs": [
    {
     "name": "stdout",
     "output_type": "stream",
     "text": [
      "Please input a number: 6\n",
      "6  x  1  =  6\n",
      "6  x  2  =  12\n",
      "6  x  3  =  18\n",
      "6  x  4  =  24\n",
      "6  x  5  =  30\n",
      "6  x  6  =  36\n",
      "6  x  7  =  42\n",
      "6  x  8  =  48\n",
      "6  x  9  =  54\n",
      "6  x  10  =  60\n"
     ]
    }
   ],
   "source": [
    "num_input = input('Please input a number: ')\n",
    "num_input = int(num_input)\n",
    "for n in range(1, 11):\n",
    "    print(num_input, ' x ', n, ' = ', num_input * n)\n"
   ]
  },
  {
   "cell_type": "code",
   "execution_count": 10,
   "id": "cadd4034",
   "metadata": {},
   "outputs": [
    {
     "name": "stdout",
     "output_type": "stream",
     "text": [
      "1\n",
      "22\n",
      "333\n",
      "4444\n",
      "55555\n",
      "666666\n",
      "7777777\n",
      "88888888\n",
      "999999999\n"
     ]
    }
   ],
   "source": [
    "# ii.\n",
    "\n",
    "for n in range(1, 10):\n",
    "    n_str = str(n)\n",
    "    print(n_str * n)\n",
    "    "
   ]
  },
  {
   "cell_type": "markdown",
   "id": "4e92f539",
   "metadata": {},
   "source": [
    "### C. break and continue"
   ]
  },
  {
   "cell_type": "markdown",
   "id": "e56d16ba",
   "metadata": {},
   "source": [
    "#### i. Write a program that prompts the user for a positive integer. Next write a loop that prints out the numbers from the number the user entered down to 1."
   ]
  },
  {
   "cell_type": "code",
   "execution_count": 11,
   "id": "28a67621",
   "metadata": {},
   "outputs": [
    {
     "name": "stdout",
     "output_type": "stream",
     "text": [
      "Please input a positve integer: 4\n",
      "4\n",
      "3\n",
      "2\n",
      "1\n"
     ]
    }
   ],
   "source": [
    "n = input('Please input a positve integer: ')\n",
    "n = int(n)\n",
    "for n in reversed(range(1, n + 1)):\n",
    "    print(n)\n",
    "    n += 1\n"
   ]
  },
  {
   "cell_type": "markdown",
   "id": "5c864d36",
   "metadata": {},
   "source": [
    "#### ii. The input function can be used to prompt for input and use that input in your python code. Prompt the user to enter a positive number and write a loop that counts from 0 to that number. (Hints: note that the input function returns a string, so you'll need to convert this to a numeric type.)"
   ]
  },
  {
   "cell_type": "code",
   "execution_count": 12,
   "id": "e7c7e17f",
   "metadata": {},
   "outputs": [
    {
     "name": "stdout",
     "output_type": "stream",
     "text": [
      "Please input a positive integer: 5\n",
      "0\n",
      "1\n",
      "2\n",
      "3\n",
      "4\n",
      "5\n"
     ]
    }
   ],
   "source": [
    "p = input('Please input a positive integer: ')\n",
    "p = int(p)\n",
    "for p in range(0, p + 1):\n",
    "    print(p)\n",
    "    p -= 1\n"
   ]
  },
  {
   "cell_type": "markdown",
   "id": "e6f9c07a",
   "metadata": {},
   "source": [
    "#### iii. Prompt the user for an odd number between 1 and 50. Use a loop and a break statement to continue prompting the user if they enter invalid input. (Hint: use the isdigit method on strings to determine this). Use a loop and the continue statement to output all the odd numbers between 1 and 50, except for the number the user entered."
   ]
  },
  {
   "cell_type": "code",
   "execution_count": 13,
   "id": "e6fa3d1a",
   "metadata": {},
   "outputs": [
    {
     "name": "stdout",
     "output_type": "stream",
     "text": [
      "Please enter a number that is odd and between 1 and 50:\n",
      "47\n",
      "47 is a digit! Great!\n",
      "Great this number fits within our range!\n",
      "Great! 47 is an odd number too!\n",
      "\n",
      "Number to skip: 47\n",
      "\n",
      "Here is an odd number: 1\n",
      "Here is an odd number: 3\n",
      "Here is an odd number: 5\n",
      "Here is an odd number: 7\n",
      "Here is an odd number: 9\n",
      "Here is an odd number: 11\n",
      "Here is an odd number: 13\n",
      "Here is an odd number: 15\n",
      "Here is an odd number: 17\n",
      "Here is an odd number: 19\n",
      "Here is an odd number: 21\n",
      "Here is an odd number: 23\n",
      "Here is an odd number: 25\n",
      "Here is an odd number: 27\n",
      "Here is an odd number: 29\n",
      "Here is an odd number: 31\n",
      "Here is an odd number: 33\n",
      "Here is an odd number: 35\n",
      "Here is an odd number: 37\n",
      "Here is an odd number: 39\n",
      "Here is an odd number: 41\n",
      "Here is an odd number: 43\n",
      "Here is an odd number: 45\n",
      "Yikes! Skipping number: 47\n",
      "Here is an odd number: 49\n"
     ]
    }
   ],
   "source": [
    "\n",
    "while True:\n",
    "    user_input = input('Please enter a number that is odd and between 1 and 50:\\n')\n",
    "    # checking that input contains a number\n",
    "    if user_input.isdigit() == True:\n",
    "        print(f'{user_input} is a digit! Great!')\n",
    "        user_num = int(user_input)\n",
    "    \n",
    "        # checking that the input is less than 50 and greater than 0 \n",
    "        if user_num < 50 and user_num > 0:\n",
    "            print(f'Great this number fits within our range!')\n",
    "        \n",
    "            # checking that the input is an odd number         \n",
    "            if user_num % 2 != 0:\n",
    "                print(f'Great! {user_num} is an odd number too!')\n",
    "                break\n",
    "            else:\n",
    "                print('The number you have entered is not an odd number.')\n",
    "        else:\n",
    "            print('The number you entered is outside of the range.')\n",
    "    else:\n",
    "        print('The value entered is not a positive integer')\n",
    "print()\n",
    "print(f'Number to skip: {user_num}')   \n",
    "print()\n",
    "for i in range(0, 50 + 1):\n",
    "    if i == user_num:\n",
    "        print(f'Yikes! Skipping number: {user_num}')\n",
    "        continue\n",
    "    if i % 2 == 1:\n",
    "        print(f'Here is an odd number: {i}')\n",
    "            \n",
    "\n",
    "\n",
    "\n",
    "\n",
    "\n"
   ]
  },
  {
   "cell_type": "code",
   "execution_count": 14,
   "id": "8d982d1e",
   "metadata": {},
   "outputs": [
    {
     "name": "stdout",
     "output_type": "stream",
     "text": [
      "1\n",
      "3\n",
      "5\n",
      "yikes!\n",
      "9\n",
      "11\n",
      "13\n",
      "15\n",
      "17\n",
      "19\n",
      "21\n",
      "23\n",
      "25\n",
      "27\n",
      "29\n",
      "31\n",
      "33\n",
      "35\n",
      "37\n",
      "39\n",
      "41\n",
      "43\n",
      "45\n",
      "47\n",
      "49\n"
     ]
    }
   ],
   "source": [
    "# Step 1: build a loop that constructs prints for all odd numbers \n",
    "# in range\n",
    "\n",
    "# placeholder variable\n",
    "user_num = 7\n",
    "\n",
    "for i in range(1, 50 + 1, 2): # third number hear is telling to count by twos\n",
    "    # print(i) now we have to tell it only to print odd numbers\n",
    "    if i % 2 != 0: # now we have to ask the user for input\n",
    "        if i == user_num:\n",
    "            print('yikes!')\n",
    "        else:\n",
    "            print(i)"
   ]
  },
  {
   "cell_type": "markdown",
   "id": "6e523954",
   "metadata": {},
   "source": [
    "### 3. Fizzbuzz\n",
    "\n",
    "One of the most common interview questions for entry-level programmers is the FizzBuzz test. Developed by Imran Ghory, the test is designed to test basic looping and conditional logic skills.\n",
    "\n",
    "- Write a program that prints the numbers from 1 to 100.\n",
    "- For multiples of three print \"Fizz\" instead of the number\n",
    "- For the multiples of five print \"Buzz\".\n",
    "- For numbers which are multiples of both three and five print \"FizzBuzz\"."
   ]
  },
  {
   "cell_type": "code",
   "execution_count": 15,
   "id": "b5bdffd9",
   "metadata": {},
   "outputs": [
    {
     "name": "stdout",
     "output_type": "stream",
     "text": [
      "1\n",
      "2\n",
      "Fizz\n",
      "4\n",
      "Buzz\n",
      "Fizz\n",
      "7\n",
      "8\n",
      "Fizz\n",
      "Buzz\n",
      "11\n",
      "Fizz\n",
      "13\n",
      "14\n",
      "FizzBuzz\n",
      "16\n",
      "17\n",
      "Fizz\n",
      "19\n",
      "Buzz\n",
      "Fizz\n",
      "22\n",
      "23\n",
      "Fizz\n",
      "Buzz\n",
      "26\n",
      "Fizz\n",
      "28\n",
      "29\n",
      "FizzBuzz\n",
      "31\n",
      "32\n",
      "Fizz\n",
      "34\n",
      "Buzz\n",
      "Fizz\n",
      "37\n",
      "38\n",
      "Fizz\n",
      "Buzz\n",
      "41\n",
      "Fizz\n",
      "43\n",
      "44\n",
      "FizzBuzz\n",
      "46\n",
      "47\n",
      "Fizz\n",
      "49\n",
      "Buzz\n",
      "Fizz\n",
      "52\n",
      "53\n",
      "Fizz\n",
      "Buzz\n",
      "56\n",
      "Fizz\n",
      "58\n",
      "59\n",
      "FizzBuzz\n",
      "61\n",
      "62\n",
      "Fizz\n",
      "64\n",
      "Buzz\n",
      "Fizz\n",
      "67\n",
      "68\n",
      "Fizz\n",
      "Buzz\n",
      "71\n",
      "Fizz\n",
      "73\n",
      "74\n",
      "FizzBuzz\n",
      "76\n",
      "77\n",
      "Fizz\n",
      "79\n",
      "Buzz\n",
      "Fizz\n",
      "82\n",
      "83\n",
      "Fizz\n",
      "Buzz\n",
      "86\n",
      "Fizz\n",
      "88\n",
      "89\n",
      "FizzBuzz\n",
      "91\n",
      "92\n",
      "Fizz\n",
      "94\n",
      "Buzz\n",
      "Fizz\n",
      "97\n",
      "98\n",
      "Fizz\n",
      "Buzz\n"
     ]
    }
   ],
   "source": [
    "for i in range(1, 100+1):\n",
    "    if i % 15 == 0: # 15 is the common denominator\n",
    "        print('FizzBuzz')\n",
    "        continue\n",
    "    if i % 3 == 0:\n",
    "        print('Fizz')\n",
    "        continue\n",
    "    if i % 5 == 0:\n",
    "        print('Buzz')\n",
    "        continue\n",
    "    print(i)"
   ]
  },
  {
   "cell_type": "markdown",
   "id": "2469a84c",
   "metadata": {},
   "source": [
    "### 4. Display a table of powers.\n",
    "\n",
    "- Prompt the user to enter an integer\n",
    "- Display a table of squares and cubes from 1 to the value entered\n",
    "- Ask if the user wants to continue\n",
    "- Assume that the user will enter valid data\n",
    "- Only continue if the user agrees to"
   ]
  },
  {
   "cell_type": "code",
   "execution_count": 16,
   "id": "33273102",
   "metadata": {},
   "outputs": [],
   "source": [
    "# display a table of powers\n",
    "\n",
    "# powers are based off of user input\n",
    "\n",
    "# if the user elects to continue, we loop\n",
    "\n",
    "# if not we will break"
   ]
  },
  {
   "cell_type": "code",
   "execution_count": 17,
   "id": "ae30cfe1",
   "metadata": {},
   "outputs": [
    {
     "data": {
      "text/plain": [
       "True"
      ]
     },
     "execution_count": 17,
     "metadata": {},
     "output_type": "execute_result"
    }
   ],
   "source": [
    "int('4') == float('4')"
   ]
  },
  {
   "cell_type": "code",
   "execution_count": 18,
   "id": "87ff1684",
   "metadata": {},
   "outputs": [],
   "source": [
    "myvar = '4.7'"
   ]
  },
  {
   "cell_type": "code",
   "execution_count": 19,
   "id": "a642c35d",
   "metadata": {},
   "outputs": [],
   "source": [
    "float_myvar = float(myvar)"
   ]
  },
  {
   "cell_type": "code",
   "execution_count": 20,
   "id": "8ab776aa",
   "metadata": {},
   "outputs": [
    {
     "name": "stdout",
     "output_type": "stream",
     "text": [
      "4\n"
     ]
    }
   ],
   "source": [
    "float_myvar = int(float_myvar)\n",
    "print(float_myvar)"
   ]
  },
  {
   "cell_type": "code",
   "execution_count": 21,
   "id": "b9a3eee2",
   "metadata": {},
   "outputs": [
    {
     "name": "stdout",
     "output_type": "stream",
     "text": [
      "Please enter an integer: \n",
      "6\n",
      "  Number  |  Squared  |  Cubed  \n",
      "---------------------------------\n",
      "    1     |     1     |     1     \n",
      "    2     |     4     |     8     \n",
      "    3     |     9     |     27    \n",
      "    4     |     16    |     64    \n",
      "    5     |     25    |    125    \n",
      "    6     |     36    |    216    \n",
      "---------------------------------\n",
      "This was fun! We should do it again! What do you think? Y / N?\n",
      "n\n",
      "\n",
      "Thanks for playing!\n"
     ]
    }
   ],
   "source": [
    "## woof okay this is the final answer\n",
    "\n",
    "while True:\n",
    "    n = input('Please enter an integer: \\n')\n",
    "    n = int(n)\n",
    "\n",
    "    print('  Number  |  Squared  |  Cubed  ')\n",
    "    print('---------------------------------')\n",
    "\n",
    "    for x in range(1, n + 1):\n",
    "        print(f'{x:^10}| {x**2:^10}| {x**3:^10}')\n",
    "    print('---------------------------------')\n",
    "\n",
    "    user_yn = input('This was fun! We should do it again! What do you think? Y / N?\\n')\n",
    "    print()\n",
    "    if user_yn.lower()[0] == 'n':\n",
    "        print('Thanks for playing!')\n",
    "        break"
   ]
  },
  {
   "cell_type": "markdown",
   "id": "880f38ea",
   "metadata": {},
   "source": [
    "### 5. Convert given number grades into letter grades.\n",
    "\n",
    "- Prompt the user for a numerical grade from 0 to 100\n",
    "- Display the corresponding letter grade\n",
    "- Prompt the user to continue\n",
    "- Assume that the user will enter valid integers for the grades\n",
    "- The application should only continue if the user agrees to\n",
    "- Grade Ranges:\n",
    "\n",
    "     - A : 100 - 88\n",
    "     - B : 87 - 80\n",
    "     - C : 79 - 67\n",
    "     - D : 66 - 60\n",
    "     - F : 59 - 0\n",
    "\n",
    "Bonus: Edit your grade ranges to include pluses and minuses (ex: 99-100 = A+)."
   ]
  },
  {
   "cell_type": "code",
   "execution_count": 22,
   "id": "81756164",
   "metadata": {},
   "outputs": [],
   "source": [
    "# what is the final desired output: Letter Grade\n",
    "\n",
    "# to get that the input needed is the numerical grade"
   ]
  },
  {
   "cell_type": "code",
   "execution_count": 23,
   "id": "0a30807d",
   "metadata": {},
   "outputs": [
    {
     "name": "stdout",
     "output_type": "stream",
     "text": [
      "Please enter a numerical grade from 0 to 100: \n",
      "67\n",
      "\n",
      "You did okay. You got a C!\n",
      "Would you like to go again? (y/n)\n",
      "n\n",
      "\n",
      "Thanks for playing!\n"
     ]
    }
   ],
   "source": [
    "\n",
    "#2nd step: now we get the input\n",
    "\n",
    "# user_grade = int(input('Please enter a numerical value from 0 to 100: \\n'))\n",
    "# print()\n",
    "\n",
    "# 3rd step: creating the while to continue asking user for input\n",
    "while True:\n",
    "\n",
    "#2nd step: now we get the input\n",
    "\n",
    "    user_grade = int(input('Please enter a numerical grade from 0 to 100: \\n'))\n",
    "    print()\n",
    "    \n",
    "# 1st Step: Below are the conditions \n",
    "    if user_grade >= 88:\n",
    "        print('Great job! You got an A!')\n",
    "        if user_grade in range(95, 101):\n",
    "            print('A+')\n",
    "        if user_grade in range(88, 94):\n",
    "            print('A-')\n",
    "    elif user_grade >= 80:\n",
    "        print('Good job! You got a B!')\n",
    "    elif user_grade >= 67:\n",
    "        print('You did okay. You got a C!')\n",
    "    elif user_grade >= 60:\n",
    "        print('You can do better. You got a D!')\n",
    "    else:\n",
    "        print('Woof! You should study more. You got an F!')\n",
    "        \n",
    "# 4th step: add the continue statement\n",
    "    user_response = input('Would you like to go again? (y/n)\\n')\n",
    "# compare the lower case version of the string\n",
    "    if user_response.lower() != 'y':\n",
    "        print()\n",
    "        print('Thanks for playing!')\n",
    "        break\n",
    "    \n",
    "    "
   ]
  },
  {
   "cell_type": "markdown",
   "id": "13038547",
   "metadata": {},
   "source": [
    "### 6. Create a list of dictionaries where each dictionary represents a book that you have read. Each dictionary in the list should have the keys title, author, and genre. Loop through the list and print out information about each book.\n",
    "\n",
    "    a. Prompt the user to enter a genre, then loop through your books list and print out the titles of all the books in that genre."
   ]
  },
  {
   "cell_type": "code",
   "execution_count": 24,
   "id": "400d8b37",
   "metadata": {},
   "outputs": [],
   "source": [
    "books = [{'title': 'The Witching Hour', 'author': 'Anne Rice', 'genre': 'Horror'},\n",
    "         {'title': 'Beyond Order', 'author': 'Jordan B. Peterson', 'genre': 'Pyschology'},\n",
    "         {'title': 'The Shining', 'author': 'Stephen King', 'genre': 'Horror'},\n",
    "         {'title': 'Project Hail Mary', 'author': 'Andy Weir', 'genre': 'Science Fiction'}    \n",
    "]"
   ]
  },
  {
   "cell_type": "code",
   "execution_count": 25,
   "id": "7db56dbd",
   "metadata": {},
   "outputs": [
    {
     "data": {
      "text/plain": [
       "[{'title': 'The Witching Hour', 'author': 'Anne Rice', 'genre': 'Horror'},\n",
       " {'title': 'Beyond Order',\n",
       "  'author': 'Jordan B. Peterson',\n",
       "  'genre': 'Pyschology'},\n",
       " {'title': 'The Shining', 'author': 'Stephen King', 'genre': 'Horror'},\n",
       " {'title': 'Project Hail Mary',\n",
       "  'author': 'Andy Weir',\n",
       "  'genre': 'Science Fiction'}]"
      ]
     },
     "execution_count": 25,
     "metadata": {},
     "output_type": "execute_result"
    }
   ],
   "source": [
    "books"
   ]
  },
  {
   "cell_type": "code",
   "execution_count": 26,
   "id": "4a5f862f",
   "metadata": {},
   "outputs": [
    {
     "name": "stdout",
     "output_type": "stream",
     "text": [
      "{'title': 'The Witching Hour', 'author': 'Anne Rice', 'genre': 'Horror'}\n",
      "{'title': 'Beyond Order', 'author': 'Jordan B. Peterson', 'genre': 'Pyschology'}\n",
      "{'title': 'The Shining', 'author': 'Stephen King', 'genre': 'Horror'}\n",
      "{'title': 'Project Hail Mary', 'author': 'Andy Weir', 'genre': 'Science Fiction'}\n"
     ]
    }
   ],
   "source": [
    "for i in books:\n",
    "    print(i)"
   ]
  },
  {
   "cell_type": "code",
   "execution_count": 30,
   "id": "49ebdd78",
   "metadata": {},
   "outputs": [
    {
     "name": "stdout",
     "output_type": "stream",
     "text": [
      "Please enter a genre: \n",
      "Horror\n",
      "The Witching Hour\n",
      "The Shining\n"
     ]
    }
   ],
   "source": [
    "user_input = input('Please enter a genre: \\n')\n",
    "for book in books:\n",
    "    if book['genre'] == user_input:\n",
    "        print(book['title'])"
   ]
  },
  {
   "cell_type": "code",
   "execution_count": 28,
   "id": "efce2ae2",
   "metadata": {},
   "outputs": [],
   "source": []
  }
 ],
 "metadata": {
  "kernelspec": {
   "display_name": "Python 3 (ipykernel)",
   "language": "python",
   "name": "python3"
  },
  "language_info": {
   "codemirror_mode": {
    "name": "ipython",
    "version": 3
   },
   "file_extension": ".py",
   "mimetype": "text/x-python",
   "name": "python",
   "nbconvert_exporter": "python",
   "pygments_lexer": "ipython3",
   "version": "3.9.13"
  }
 },
 "nbformat": 4,
 "nbformat_minor": 5
}
