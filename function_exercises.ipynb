{
 "cells": [
  {
   "cell_type": "markdown",
   "id": "8105f022",
   "metadata": {},
   "source": [
    "### 1. Define a function named is_two. It should accept one input and return True if the passed input is either the number or the string 2, False otherwise.\n"
   ]
  },
  {
   "cell_type": "code",
   "execution_count": 6,
   "id": "ad24a471",
   "metadata": {},
   "outputs": [],
   "source": [
    "def is_two(num):\n",
    "    if (num == 2) or (num == '2'):\n",
    "        return True\n",
    "    else:\n",
    "        return False\n",
    "\n"
   ]
  },
  {
   "cell_type": "code",
   "execution_count": null,
   "id": "02d6e855",
   "metadata": {},
   "outputs": [],
   "source": [
    "# Could also do the following"
   ]
  },
  {
   "cell_type": "code",
   "execution_count": 10,
   "id": "cef2e97c",
   "metadata": {},
   "outputs": [
    {
     "data": {
      "text/plain": [
       "True"
      ]
     },
     "execution_count": 10,
     "metadata": {},
     "output_type": "execute_result"
    }
   ],
   "source": [
    "is_two(2)"
   ]
  },
  {
   "cell_type": "code",
   "execution_count": null,
   "id": "cd818793",
   "metadata": {},
   "outputs": [],
   "source": [
    "# boolean function\n",
    "\n",
    "def is_two(num):\n",
    "    return num == 2 or num == '2'\n",
    "\n",
    "# will return True or False"
   ]
  },
  {
   "cell_type": "markdown",
   "id": "c335ae91",
   "metadata": {},
   "source": [
    "### 2. Define a function named is_vowel. It should return True if the passed string is a vowel, False otherwise."
   ]
  },
  {
   "cell_type": "code",
   "execution_count": 5,
   "id": "6d66012a",
   "metadata": {},
   "outputs": [
    {
     "data": {
      "text/plain": [
       "True"
      ]
     },
     "execution_count": 5,
     "metadata": {},
     "output_type": "execute_result"
    }
   ],
   "source": [
    "4 in [1, 2, 3, 4]"
   ]
  },
  {
   "cell_type": "code",
   "execution_count": 14,
   "id": "c3596aa4",
   "metadata": {},
   "outputs": [],
   "source": [
    "def is_vowel(my_let):\n",
    "    if type(my_let) == str:\n",
    "        if len(my_let) == 1:\n",
    "            return my_let.lower() in list('aeiou')\n",
    "        else:\n",
    "            return False\n",
    "    else: \n",
    "        return False"
   ]
  },
  {
   "cell_type": "code",
   "execution_count": 16,
   "id": "cf3f6f40",
   "metadata": {},
   "outputs": [],
   "source": [
    "assert is_vowel(\"A\") == True"
   ]
  },
  {
   "cell_type": "markdown",
   "id": "45f496e9",
   "metadata": {},
   "source": [
    "### 3. Define a function named is_consonant. It should return True if the passed string is a consonant, False otherwise. Use your is_vowel function to accomplish this."
   ]
  },
  {
   "cell_type": "code",
   "execution_count": 18,
   "id": "c24baf85",
   "metadata": {},
   "outputs": [],
   "source": [
    "def is_consonant(my_let):\n",
    "    if type(my_let) == str:\n",
    "        if len(my_let) == 1 and not is_vowel(my_let) and my_let.isalpha():\n",
    "            return True\n",
    "        else:\n",
    "            return False\n",
    "    else: \n",
    "        return False"
   ]
  },
  {
   "cell_type": "markdown",
   "id": "a55d3a2f",
   "metadata": {},
   "source": [
    "### 4. Define a function that accepts a string that is a word. The function should capitalize the first letter of the word if the word starts with a consonant."
   ]
  },
  {
   "cell_type": "code",
   "execution_count": 19,
   "id": "6d6c28e1",
   "metadata": {},
   "outputs": [],
   "source": [
    "def capitalize_starting_consonant(some_word):\n",
    "    if is_consonant(some_word[0]):\n",
    "        return some.word.capitalize()\n",
    "    else:\n",
    "        return some_word"
   ]
  },
  {
   "cell_type": "markdown",
   "id": "33b7135c",
   "metadata": {},
   "source": [
    "### 5. Define a function named calculate_tip. It should accept a tip percentage (a number between 0 and 1) and the bill total, and return the amount to tip."
   ]
  },
  {
   "cell_type": "code",
   "execution_count": null,
   "id": "7c59b397",
   "metadata": {},
   "outputs": [],
   "source": [
    "def calcualte_tip(my_bill, my_tip=.2):\n",
    "    return my_bill * my_tip"
   ]
  },
  {
   "cell_type": "markdown",
   "id": "d97a94c4",
   "metadata": {},
   "source": [
    "### 6. Define a function named apply_discount. It should accept a original price, and a discount percentage, and return the price after the discount is applied."
   ]
  },
  {
   "cell_type": "code",
   "execution_count": null,
   "id": "29003c27",
   "metadata": {},
   "outputs": [],
   "source": [
    "def apply_discount(og_price, dis_percent=0):\n",
    "    discount_value == og_price * dis_percent\n",
    "    new_price = og_price - discount_value\n",
    "    return new_price"
   ]
  },
  {
   "cell_type": "code",
   "execution_count": null,
   "id": "b6aeeb49",
   "metadata": {},
   "outputs": [],
   "source": [
    "# example of a lambda function "
   ]
  },
  {
   "cell_type": "code",
   "execution_count": 20,
   "id": "63991db6",
   "metadata": {},
   "outputs": [],
   "source": [
    "disc_20_off = lambda x: x - (x*.2)"
   ]
  },
  {
   "cell_type": "code",
   "execution_count": 21,
   "id": "b97ef5cc",
   "metadata": {},
   "outputs": [
    {
     "data": {
      "text/plain": [
       "'2000000000'"
      ]
     },
     "execution_count": 21,
     "metadata": {},
     "output_type": "execute_result"
    }
   ],
   "source": [
    "'2,000,000,000'.replace(',','')"
   ]
  },
  {
   "cell_type": "markdown",
   "id": "252444e8",
   "metadata": {},
   "source": [
    "### 7. Define a function named handle_commas. It should accept a string that is a number that contains commas in it as input, and return a number as output."
   ]
  },
  {
   "cell_type": "code",
   "execution_count": 25,
   "id": "a6f2ca40",
   "metadata": {},
   "outputs": [],
   "source": [
    "def handle_commas(my_string_num):\n",
    "    # must remove commas first\n",
    "    my_new_num = my_string_num.replace(',', '')\n",
    "    return int(my_new_num)  "
   ]
  },
  {
   "cell_type": "code",
   "execution_count": 26,
   "id": "c4aefd8c",
   "metadata": {},
   "outputs": [
    {
     "data": {
      "text/plain": [
       "1000000"
      ]
     },
     "execution_count": 26,
     "metadata": {},
     "output_type": "execute_result"
    }
   ],
   "source": [
    "handle_commas('1,000,000')"
   ]
  },
  {
   "cell_type": "code",
   "execution_count": 23,
   "id": "269ffd59",
   "metadata": {},
   "outputs": [
    {
     "name": "stdout",
     "output_type": "stream",
     "text": [
      "Enter a number: 2,000,46466,57765\n"
     ]
    }
   ],
   "source": [
    "my_num = input('Enter a number: ')\n",
    "my_new_num = ''\n",
    "for digit in my_num:\n",
    "    if digit == ',':\n",
    "        continue\n",
    "    if digit == '.':\n",
    "        break\n",
    "    else:\n",
    "        my_new_num += digit"
   ]
  },
  {
   "cell_type": "markdown",
   "id": "7647ea6d",
   "metadata": {},
   "source": [
    "### 8. Define a function named get_letter_grade. It should accept a number and return the letter grade associated with that number (A-F).\n"
   ]
  },
  {
   "cell_type": "code",
   "execution_count": 28,
   "id": "8fc476df",
   "metadata": {},
   "outputs": [],
   "source": [
    "def get_letter_grade(my_num_grade):\n",
    "    if my_num_grade >= 90:\n",
    "        return 'A'\n",
    "    elif my_num_grade >= 80:\n",
    "        return 'B'\n",
    "    elif my_num_grade >= 70:\n",
    "        return 'C'\n",
    "    elif my_num_grade < 60:\n",
    "        return 'D'\n",
    "    else:\n",
    "        return 'F'"
   ]
  },
  {
   "cell_type": "code",
   "execution_count": 29,
   "id": "e6665f60",
   "metadata": {},
   "outputs": [
    {
     "data": {
      "text/plain": [
       "'D'"
      ]
     },
     "execution_count": 29,
     "metadata": {},
     "output_type": "execute_result"
    }
   ],
   "source": [
    "get_letter_grade(54)"
   ]
  },
  {
   "cell_type": "markdown",
   "id": "f1286073",
   "metadata": {},
   "source": [
    "### 9. Define a function named remove_vowels that accepts a string and returns a string with all the vowels removed."
   ]
  },
  {
   "cell_type": "code",
   "execution_count": 31,
   "id": "7afebb4c",
   "metadata": {},
   "outputs": [],
   "source": [
    "#initialize no_vowels as a empty string\n",
    "\n",
    "def remove_vowels(some_stuff):\n",
    "    no_vowels = ''\n",
    "    for n in some_stuff:\n",
    "        if is_vowel(n):\n",
    "            continue\n",
    "        else:\n",
    "            no_vowels += n\n",
    "    return no_vowels"
   ]
  },
  {
   "cell_type": "code",
   "execution_count": 32,
   "id": "85ae8ad8",
   "metadata": {},
   "outputs": [],
   "source": [
    "some_stuff = 'I will take four large pizzas.'\n",
    "some_stuff += 'a'"
   ]
  },
  {
   "cell_type": "code",
   "execution_count": 33,
   "id": "1ce18823",
   "metadata": {},
   "outputs": [
    {
     "data": {
      "text/plain": [
       "' wll tk fr lrg pzzs.'"
      ]
     },
     "execution_count": 33,
     "metadata": {},
     "output_type": "execute_result"
    }
   ],
   "source": [
    "remove_vowels(some_stuff)"
   ]
  },
  {
   "cell_type": "code",
   "execution_count": null,
   "id": "03a5357c",
   "metadata": {},
   "outputs": [],
   "source": [
    "# OR"
   ]
  },
  {
   "cell_type": "code",
   "execution_count": null,
   "id": "9350312d",
   "metadata": {},
   "outputs": [],
   "source": [
    "def remove_vowels(some_word):\n",
    "    new_string = []\n",
    "    [new_string.append(letter) fir letter in some_word if not is_vowel():"
   ]
  },
  {
   "cell_type": "markdown",
   "id": "9e9cf544",
   "metadata": {},
   "source": [
    "### 10. Define a function named normalize_name. It should accept a string and return a valid python identifier, that is:\n",
    "- anything that is not a valid python identifier should be removed\n",
    "- leading and trailing whitespace should be removed\n",
    "- everything should be lowercase\n",
    "- spaces should be replaced with underscores\n",
    "- for example:\n",
    "    - Name will become name\n",
    "    - First Name will become first_name\n",
    "    - % Completed will become completed"
   ]
  },
  {
   "cell_type": "code",
   "execution_count": 35,
   "id": "77b395e9",
   "metadata": {},
   "outputs": [],
   "source": [
    "# in 'abcdefghijklmnopqrstuvwxyz1234567890'\n",
    "\n",
    "# 'abcdefg'.isidentifier()"
   ]
  },
  {
   "cell_type": "code",
   "execution_count": null,
   "id": "65b257c1",
   "metadata": {},
   "outputs": [],
   "source": [
    "def normalize_name(n):\n",
    "    n = n.strip().lower()\n",
    "    n = \n",
    "    new_n = ''\n",
    "    \n",
    "    for let in n:\n",
    "        if let.isdigit() or let.isalpha():\n",
    "            continue\n",
    "        \n",
    "        "
   ]
  },
  {
   "cell_type": "markdown",
   "id": "75feefda",
   "metadata": {},
   "source": [
    "### 11. Write a function named cumulative_sum that accepts a list of numbers and returns a list that is the cumulative sum of the numbers in the list."
   ]
  },
  {
   "cell_type": "code",
   "execution_count": 41,
   "id": "e95c19b7",
   "metadata": {},
   "outputs": [],
   "source": [
    "def cumulative_sum(some_list):\n",
    "    count_sum = 0\n",
    "    new_list = []\n",
    "    for i in some_list:\n",
    "        count_sum += i\n",
    "        new_list.append(count_sum)\n",
    "    return new_list"
   ]
  },
  {
   "cell_type": "code",
   "execution_count": 43,
   "id": "02578156",
   "metadata": {},
   "outputs": [
    {
     "data": {
      "text/plain": [
       "[1, 3, 6, 10]"
      ]
     },
     "execution_count": 43,
     "metadata": {},
     "output_type": "execute_result"
    }
   ],
   "source": [
    "cumulative_sum([1, 2, 3, 4])"
   ]
  },
  {
   "cell_type": "code",
   "execution_count": null,
   "id": "78ab56fc",
   "metadata": {},
   "outputs": [],
   "source": []
  }
 ],
 "metadata": {
  "kernelspec": {
   "display_name": "Python 3 (ipykernel)",
   "language": "python",
   "name": "python3"
  },
  "language_info": {
   "codemirror_mode": {
    "name": "ipython",
    "version": 3
   },
   "file_extension": ".py",
   "mimetype": "text/x-python",
   "name": "python",
   "nbconvert_exporter": "python",
   "pygments_lexer": "ipython3",
   "version": "3.9.13"
  }
 },
 "nbformat": 4,
 "nbformat_minor": 5
}
