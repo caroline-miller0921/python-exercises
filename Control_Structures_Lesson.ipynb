{
 "cells": [
  {
   "cell_type": "markdown",
   "id": "b7142684",
   "metadata": {},
   "source": [
    "### Control Structures:\n",
    "\n",
    "##### Topic 1: if statements!"
   ]
  },
  {
   "cell_type": "code",
   "execution_count": null,
   "id": "92745c65",
   "metadata": {},
   "outputs": [],
   "source": [
    "# an if statement controls what action I do and when\n",
    "\n",
    "# if <thing>: \n",
    "#        <do action>\n"
   ]
  },
  {
   "cell_type": "code",
   "execution_count": null,
   "id": "d5a4731f",
   "metadata": {},
   "outputs": [],
   "source": [
    "breakfast = 'coffee'"
   ]
  },
  {
   "cell_type": "code",
   "execution_count": null,
   "id": "85612aaa",
   "metadata": {},
   "outputs": [],
   "source": [
    "breakfast"
   ]
  },
  {
   "cell_type": "code",
   "execution_count": null,
   "id": "15f61daa",
   "metadata": {},
   "outputs": [],
   "source": [
    "if breakfast == 'banana':\n",
    "    print('you ate fruit!')"
   ]
  },
  {
   "cell_type": "code",
   "execution_count": 5,
   "id": "bb4acefc",
   "metadata": {},
   "outputs": [
    {
     "name": "stdout",
     "output_type": "stream",
     "text": [
      "you ate something else, you nothing, idk\n"
     ]
    }
   ],
   "source": [
    "if breakfast == 'banana':\n",
    "    print('you ate fruit!')\n",
    "else:\n",
    "    print('you ate something else, you nothing, idk')"
   ]
  },
  {
   "cell_type": "code",
   "execution_count": 6,
   "id": "c3388368",
   "metadata": {},
   "outputs": [
    {
     "data": {
      "text/plain": [
       "str"
      ]
     },
     "execution_count": 6,
     "metadata": {},
     "output_type": "execute_result"
    }
   ],
   "source": [
    "type(breakfast)"
   ]
  },
  {
   "cell_type": "code",
   "execution_count": 7,
   "id": "edb51bf8",
   "metadata": {},
   "outputs": [
    {
     "name": "stdout",
     "output_type": "stream",
     "text": [
      "coffee\n"
     ]
    }
   ],
   "source": [
    "print(breakfast)"
   ]
  },
  {
   "cell_type": "code",
   "execution_count": 9,
   "id": "f57be7b4",
   "metadata": {},
   "outputs": [],
   "source": [
    "breakfast = 'banana'"
   ]
  },
  {
   "cell_type": "code",
   "execution_count": 10,
   "id": "7cf6ab53",
   "metadata": {},
   "outputs": [
    {
     "name": "stdout",
     "output_type": "stream",
     "text": [
      "you ate fruit!\n"
     ]
    }
   ],
   "source": [
    "if breakfast == 'banana':\n",
    "    print('you ate fruit!')\n",
    "else:\n",
    "    print('you ate something else, you nothing, idk')"
   ]
  },
  {
   "cell_type": "code",
   "execution_count": 16,
   "id": "0c6b7c32",
   "metadata": {},
   "outputs": [
    {
     "name": "stdout",
     "output_type": "stream",
     "text": [
      "you had fruit!\n"
     ]
    }
   ],
   "source": [
    "had_coffee = True\n",
    "\n",
    "if not had_coffee:\n",
    "    print('you may need some caffine!')\n",
    "elif breakfast == 'banana':\n",
    "    print('you had fruit!')\n",
    "else:\n",
    "    print('you ate something else, you nothing, idk')"
   ]
  },
  {
   "cell_type": "code",
   "execution_count": 17,
   "id": "bb711fcf",
   "metadata": {},
   "outputs": [
    {
     "name": "stdout",
     "output_type": "stream",
     "text": [
      "you may need some caffine!\n"
     ]
    }
   ],
   "source": [
    "if had_coffee:\n",
    "    print('you may need some caffine!')\n",
    "elif breakfast == 'banana':\n",
    "    print('you had fruit!')\n",
    "else:\n",
    "    print('you ate something else, you nothing, idk')"
   ]
  },
  {
   "cell_type": "code",
   "execution_count": null,
   "id": "03bafc64",
   "metadata": {},
   "outputs": [],
   "source": [
    "# Note: had_coffee is true and breakfast is banana, but only prints that we had coffee because of the elif"
   ]
  },
  {
   "cell_type": "code",
   "execution_count": 18,
   "id": "921ff365",
   "metadata": {},
   "outputs": [
    {
     "name": "stdout",
     "output_type": "stream",
     "text": [
      "you may need some caffine!\n",
      "you had fruit!\n"
     ]
    }
   ],
   "source": [
    "if had_coffee:\n",
    "    print('you may need some caffine!')\n",
    "if breakfast == 'banana':\n",
    "    print('you had fruit!')\n",
    "else:\n",
    "    print('you ate something else, you nothing, idk')"
   ]
  },
  {
   "cell_type": "code",
   "execution_count": null,
   "id": "0615ba40",
   "metadata": {},
   "outputs": [],
   "source": [
    "# we changed it to two if statements, therefore we get both back"
   ]
  },
  {
   "cell_type": "code",
   "execution_count": 20,
   "id": "1a50dbde",
   "metadata": {},
   "outputs": [
    {
     "name": "stdout",
     "output_type": "stream",
     "text": [
      "somewhat balanced, good job!\n"
     ]
    }
   ],
   "source": [
    "if had_coffee and breakfast == 'banana':\n",
    "    print('somewhat balanced, good job!')\n",
    "else:\n",
    "    print('maybe you should eat something')"
   ]
  },
  {
   "cell_type": "code",
   "execution_count": null,
   "id": "d1686a92",
   "metadata": {},
   "outputs": [],
   "source": [
    "had_coffee and breakfast == 'banana'\n",
    "# command + / will turn everything highlighted into comments\n",
    "# or you can highlight and then hit paratheses/brackets, it'll pull all highlighted into that field"
   ]
  },
  {
   "cell_type": "code",
   "execution_count": 23,
   "id": "9c24ede1",
   "metadata": {},
   "outputs": [
    {
     "name": "stdout",
     "output_type": "stream",
     "text": [
      "you ate something else, or nothing, idk\n"
     ]
    }
   ],
   "source": [
    "if not had_coffee: # remember that had_coffee = True\n",
    "    print('you may need more caffine!')\n",
    "if breakfast != 'banana':\n",
    "    print('you did not have a banana!')\n",
    "else:\n",
    "    print('you ate something else, or nothing, idk')"
   ]
  },
  {
   "cell_type": "code",
   "execution_count": 26,
   "id": "df3472ed",
   "metadata": {},
   "outputs": [
    {
     "name": "stdout",
     "output_type": "stream",
     "text": [
      "that's a string value\n",
      "thats fruit\n"
     ]
    }
   ],
   "source": [
    "# nesting\n",
    "\n",
    "if type(breakfast) == str:\n",
    "    print('that\\'s a string value')\n",
    "    if breakfast in ['banana', 'orange']:\n",
    "        print('thats fruit')\n",
    "    else: \n",
    "        print('that\\'s something else')\n",
    "else:\n",
    "    print('that\\'s not a string')"
   ]
  },
  {
   "cell_type": "code",
   "execution_count": 29,
   "id": "4d639eca",
   "metadata": {},
   "outputs": [],
   "source": [
    "breakfast = 0"
   ]
  },
  {
   "cell_type": "code",
   "execution_count": 30,
   "id": "5d5804d9",
   "metadata": {},
   "outputs": [
    {
     "name": "stdout",
     "output_type": "stream",
     "text": [
      "that's not a string\n"
     ]
    }
   ],
   "source": [
    "if type(breakfast) == str:\n",
    "    print('that\\'s a string value')\n",
    "    if breakfast in ['banana', 'orange']:\n",
    "        print('thats fruit')\n",
    "    else: \n",
    "        print('that\\'s something else')\n",
    "else:\n",
    "    print('that\\'s not a string')"
   ]
  },
  {
   "cell_type": "code",
   "execution_count": 31,
   "id": "557a5ad9",
   "metadata": {},
   "outputs": [
    {
     "data": {
      "text/plain": [
       "True"
      ]
     },
     "execution_count": 31,
     "metadata": {},
     "output_type": "execute_result"
    }
   ],
   "source": [
    "'a' in 'banana'"
   ]
  },
  {
   "cell_type": "code",
   "execution_count": 32,
   "id": "c1c1e9c2",
   "metadata": {},
   "outputs": [
    {
     "data": {
      "text/plain": [
       "False"
      ]
     },
     "execution_count": 32,
     "metadata": {},
     "output_type": "execute_result"
    }
   ],
   "source": [
    "'z' in 'banana'"
   ]
  },
  {
   "cell_type": "code",
   "execution_count": 33,
   "id": "197c0d01",
   "metadata": {},
   "outputs": [
    {
     "data": {
      "text/plain": [
       "True"
      ]
     },
     "execution_count": 33,
     "metadata": {},
     "output_type": "execute_result"
    }
   ],
   "source": [
    "'ana' in 'banana'"
   ]
  },
  {
   "cell_type": "code",
   "execution_count": 34,
   "id": "f838f697",
   "metadata": {},
   "outputs": [
    {
     "data": {
      "text/plain": [
       "'n'"
      ]
     },
     "execution_count": 34,
     "metadata": {},
     "output_type": "execute_result"
    }
   ],
   "source": [
    "'banana' [2] # [0, 1, 2] so it returns 'n'"
   ]
  },
  {
   "cell_type": "code",
   "execution_count": 35,
   "id": "7fc19893",
   "metadata": {},
   "outputs": [
    {
     "data": {
      "text/plain": [
       "['b', 'a', 'n', 'a', 'n', 'a']"
      ]
     },
     "execution_count": 35,
     "metadata": {},
     "output_type": "execute_result"
    }
   ],
   "source": [
    "[let for let in 'banana']"
   ]
  },
  {
   "cell_type": "code",
   "execution_count": 36,
   "id": "2e46ab55",
   "metadata": {},
   "outputs": [
    {
     "data": {
      "text/plain": [
       "['b!', 'a!', 'n!', 'a!', 'n!', 'a!']"
      ]
     },
     "execution_count": 36,
     "metadata": {},
     "output_type": "execute_result"
    }
   ],
   "source": [
    "[let+'!' for let in 'banana']"
   ]
  },
  {
   "cell_type": "markdown",
   "id": "36b708ff",
   "metadata": {},
   "source": [
    "### Loops!"
   ]
  },
  {
   "cell_type": "code",
   "execution_count": null,
   "id": "d5578bfd",
   "metadata": {},
   "outputs": [],
   "source": [
    "# a list comprehension is shorthand for a for loop"
   ]
  },
  {
   "cell_type": "code",
   "execution_count": null,
   "id": "9850fc68",
   "metadata": {},
   "outputs": [],
   "source": [
    "# a for loop will do an action for everything inside an \n",
    "# iterable defined in the loop"
   ]
  },
  {
   "cell_type": "code",
   "execution_count": 37,
   "id": "9ee07dea",
   "metadata": {},
   "outputs": [
    {
     "name": "stdout",
     "output_type": "stream",
     "text": [
      "b\n",
      "a\n",
      "n\n",
      "a\n",
      "n\n",
      "a\n"
     ]
    }
   ],
   "source": [
    "for i in 'banana':\n",
    "    print(i)"
   ]
  },
  {
   "cell_type": "code",
   "execution_count": 38,
   "id": "5e5789cd",
   "metadata": {},
   "outputs": [
    {
     "name": "stdout",
     "output_type": "stream",
     "text": [
      "b\n",
      "a\n",
      "n\n",
      "a\n",
      "n\n",
      "a\n"
     ]
    }
   ],
   "source": [
    "gwen_list = []\n",
    "for i in 'banana':\n",
    "    print(i)\n",
    "    gwen_list.append(i)"
   ]
  },
  {
   "cell_type": "code",
   "execution_count": 39,
   "id": "f7e02a50",
   "metadata": {},
   "outputs": [
    {
     "data": {
      "text/plain": [
       "['b', 'a', 'n', 'a', 'n', 'a']"
      ]
     },
     "execution_count": 39,
     "metadata": {},
     "output_type": "execute_result"
    }
   ],
   "source": [
    "gwen_list"
   ]
  },
  {
   "cell_type": "code",
   "execution_count": 41,
   "id": "153a4a24",
   "metadata": {},
   "outputs": [],
   "source": [
    "my_other_gwen_list = [let+'!' for let in 'banana']"
   ]
  },
  {
   "cell_type": "code",
   "execution_count": 42,
   "id": "d7d4079f",
   "metadata": {},
   "outputs": [
    {
     "data": {
      "text/plain": [
       "['b!', 'a!', 'n!', 'a!', 'n!', 'a!']"
      ]
     },
     "execution_count": 42,
     "metadata": {},
     "output_type": "execute_result"
    }
   ],
   "source": [
    "my_other_gwen_list"
   ]
  },
  {
   "cell_type": "code",
   "execution_count": null,
   "id": "9d8c1835",
   "metadata": {},
   "outputs": [],
   "source": [
    "# + can do both concat and addition depending on the data type\n",
    "# be mindful of the types of data you're trying to operate on"
   ]
  },
  {
   "cell_type": "code",
   "execution_count": 45,
   "id": "78ce9968",
   "metadata": {},
   "outputs": [
    {
     "data": {
      "text/plain": [
       "'4banana'"
      ]
     },
     "execution_count": 45,
     "metadata": {},
     "output_type": "execute_result"
    }
   ],
   "source": [
    "# 4 + 'banana' will break\n",
    "str(4) + 'banana'"
   ]
  },
  {
   "cell_type": "code",
   "execution_count": 46,
   "id": "31fd267d",
   "metadata": {},
   "outputs": [
    {
     "ename": "ValueError",
     "evalue": "invalid literal for int() with base 10: 'ba'",
     "output_type": "error",
     "traceback": [
      "\u001b[0;31m---------------------------------------------------------------------------\u001b[0m",
      "\u001b[0;31mValueError\u001b[0m                                Traceback (most recent call last)",
      "Input \u001b[0;32mIn [46]\u001b[0m, in \u001b[0;36m<cell line: 1>\u001b[0;34m()\u001b[0m\n\u001b[0;32m----> 1\u001b[0m \u001b[38;5;28;43mint\u001b[39;49m\u001b[43m(\u001b[49m\u001b[38;5;124;43m'\u001b[39;49m\u001b[38;5;124;43mba\u001b[39;49m\u001b[38;5;124;43m'\u001b[39;49m\u001b[43m)\u001b[49m\n",
      "\u001b[0;31mValueError\u001b[0m: invalid literal for int() with base 10: 'ba'"
     ]
    }
   ],
   "source": [
    "int('ba') # will break"
   ]
  },
  {
   "cell_type": "code",
   "execution_count": 48,
   "id": "f3124611",
   "metadata": {},
   "outputs": [
    {
     "data": {
      "text/plain": [
       "4"
      ]
     },
     "execution_count": 48,
     "metadata": {},
     "output_type": "execute_result"
    }
   ],
   "source": [
    "int('4') # will run"
   ]
  },
  {
   "cell_type": "code",
   "execution_count": null,
   "id": "03e5da62",
   "metadata": {},
   "outputs": [],
   "source": [
    "# some stuff will require input"
   ]
  },
  {
   "cell_type": "code",
   "execution_count": null,
   "id": "cd9167da",
   "metadata": {},
   "outputs": [],
   "source": [
    "my_user_var = input('hey hi good morning!')"
   ]
  },
  {
   "cell_type": "code",
   "execution_count": null,
   "id": "5225093d",
   "metadata": {},
   "outputs": [],
   "source": [
    "# if we want the documentation of an operator, we can call it like this\n",
    "\n",
    "str.lower?"
   ]
  },
  {
   "cell_type": "code",
   "execution_count": null,
   "id": "5dc194cc",
   "metadata": {},
   "outputs": [],
   "source": [
    "my_fruit_list = [\n",
    "'banana',\n",
    "'apple',\n",
    "'grapefruit',\n",
    "'kiwi',\n",
    "'orange']"
   ]
  },
  {
   "cell_type": "code",
   "execution_count": null,
   "id": "573ee73b",
   "metadata": {},
   "outputs": [],
   "source": [
    "my_fruit_list"
   ]
  },
  {
   "cell_type": "code",
   "execution_count": null,
   "id": "972a6a91",
   "metadata": {},
   "outputs": [],
   "source": []
  }
 ],
 "metadata": {
  "kernelspec": {
   "display_name": "Python 3 (ipykernel)",
   "language": "python",
   "name": "python3"
  },
  "language_info": {
   "codemirror_mode": {
    "name": "ipython",
    "version": 3
   },
   "file_extension": ".py",
   "mimetype": "text/x-python",
   "name": "python",
   "nbconvert_exporter": "python",
   "pygments_lexer": "ipython3",
   "version": "3.9.13"
  }
 },
 "nbformat": 4,
 "nbformat_minor": 5
}
