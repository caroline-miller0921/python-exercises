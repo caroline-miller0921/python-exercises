{
 "cells": [
  {
   "cell_type": "code",
   "execution_count": null,
   "id": "7c588ec9",
   "metadata": {},
   "outputs": [
    {
     "name": "stdout",
     "output_type": "stream",
     "text": [
      "~~~ Welcome to your Checkbook! ~~~\n",
      "\n",
      "What would you like to do? \n",
      "\n",
      "1) View current balance\n",
      "2) record a debit (withdraw)\n",
      "3) record a credit (deposit)\n",
      "4) exit\n",
      "\n",
      " Your choice: 5\n"
     ]
    }
   ],
   "source": [
    "print('~~~ Welcome to your Checkbook! ~~~\\n')\n",
    "\n",
    "while True:\n",
    "    client_input = input('What would you like to do? \\n\\n1) View current balance\\n2) record a debit (withdraw)\\n3) record a credit (deposit)\\n4) exit\\n\\n Your choice: ')\n",
    "    \n",
    "    "
   ]
  }
 ],
 "metadata": {
  "kernelspec": {
   "display_name": "Python 3 (ipykernel)",
   "language": "python",
   "name": "python3"
  },
  "language_info": {
   "codemirror_mode": {
    "name": "ipython",
    "version": 3
   },
   "file_extension": ".py",
   "mimetype": "text/x-python",
   "name": "python",
   "nbconvert_exporter": "python",
   "pygments_lexer": "ipython3",
   "version": "3.9.13"
  }
 },
 "nbformat": 4,
 "nbformat_minor": 5
}
